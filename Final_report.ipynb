{
 "cells": [
  {
   "cell_type": "markdown",
   "metadata": {
    "collapsed": true,
    "pycharm": {
     "name": "#%% md\n"
    }
   },
   "source": [
    "# Endometrial epithelial organoids - Is the menstrual cycle stage of donors mapped in organoids derived from endometrial biopsies?  \n",
    "## Final report Q-Team course: “single-cell RNA Seq of Organoids: a new window into disease and development”  \n",
    "\n",
    "### Julia Dreimann, Franziska Koch, Vic-Fabienne Schumann, Olyssa Sperling"
   ]
  },
  {
   "cell_type": "markdown",
   "source": [
    "## Abstract (WIP)\n",
    "\n",
    "The endometrial epithelium is a highly dynamic tissue which plays an important role in human reproduction. Its dynamic nature and lack of accurate model systems make the understanding of molecular and morphological events and further research difficult. Organoids derived from biopsies offer new ways to gain insight into the dynamics and functioning of this tissue, but are themselves still a new method of modelling human organs. Within the frames of this project we want to assess whether the menstrual cycle stage of donors is mapped in organoids derived from endometrial biopsies or whether their development depends solely on external factors. We found that cell type development of endometrial organoids resembles that of in vivo tissue when comparing proliferative and secretory phase of the menstrual cycle. Further, gene expression patterns identified in endometrial tissue are detected in organoids but do not allow confident assignment of menstrual cycle phases. Ultimately, more data regarding endometrial organoids grown from biospies at different stages of the menstrual cycle are needed to create a better understanding of donor state influence on endometrial organoid development."
   ],
   "metadata": {
    "collapsed": false,
    "pycharm": {
     "name": "#%% md\n"
    }
   }
  },
  {
   "cell_type": "markdown",
   "source": [
    "## General Information\n",
    "\n",
    "This report describes the analysis of single cell sequencing data of endometrial epithelial tissue samples and organoids and the comparison of these datasets regarding similarities in development and gene expression. The research was done as a part of the Q-Teams course \"single-cell RNA-sequencing of Organoids: a new window into disease and development\" held online by Nikolaos Karaiskos and Tancredi Massimo Pentimalli in the winter semester 2021/22.  \n",
    "\n",
    "Shown here are the most relevant code snippets used to get the presented results. For a complete and reproducible version of the analysis please see the [code notebook](https://github.com/vfschumann/Organoids_sc_WS2122/blob/master/processing_notebooks/Code_for_finalreport.ipynb)."
   ],
   "metadata": {
    "collapsed": false,
    "pycharm": {
     "name": "#%% md\n"
    }
   }
  },
  {
   "cell_type": "markdown",
   "source": [
    "## Introduction\n",
    "\n",
    "### Information about menstrual cycle and endometrium\n",
    "\n",
    "Each month the human endometrium undergoes a cycle of remodelling, shedding and regeneration. Comparable menstrual cycles are rarely found in other species which creates obstacles for modelling this sequence of events in established model organisms like mouse or zebrafish. (Hibaoui et al., 2020) Thus, even though the endometrium plays a crucial role in human reproduction, only little is known regarding the molecular and cellular events responsible for the dynamic changes throughout the menstrual cycle. Our aim with this project is to asses whether newly developed endometrial organoids derived from human endometrial biopsies resemble the menstrual cycle stage of their donor with a focus on gene expression in endometrial epithelium.\n",
    "\n",
    "The uterus is consists of two layers: an outer layer of smooth muscle (myometrium) and an internal layer called the endometrium. The latter is further divided into two functional layers. The outer functionalis layer is composed of dense glandular tissue surrounded by a loose connective stroma. This tissue is thickened and sloighed in response to ovarian hormones during the menstrual cycle. The inner basalis layer is closest to the myometrium and contains primarily the base of the glands, dense stroma and large vessels. This layer serves as a germinal compartment for generating the new functionalis each month. (Figueira et al., 2011) Multiple cell types can be found. The endometrium consists mainly of lumenal and glandular epithelia, which are composed of ciliated and secretory cells. Covering the surface of the endometrium, the lumenal epithelium is the site of embryo attachment. The branched columnar glands open into the lumen and produce secretions that are rich in growth factors and lipids essential for placenta growth. (Garcia-Alsonso et al., 2021) The epithelial cells are supported by fibroblasts, immune cells, vascular and lymphatic systems. (Fitzgerald et al., 2019)\n",
    "\n",
    "The human menstrual cycle can be split into three phases during which the endometrium undergoes morphological and functional changes: menstrual phase, proliferative phase and secretory phase. Each cycle starts with the shedding of the functional upper layer, the stratum functionalis. Rising levels of estrogen then induce subsequent tissue repair and proliferation. The endometrial lining thickens. After ovulation, progesterone levels rise and induce the secretory phase during which decidualization takes place. At this point in time the endometrium is structurally and biochemically ideal for the implantation of an embryo. After implantation, the endometrium is the site of pregnancy. However, in the case that no embryo was implanted, estrogen and progesterone levels decrease eventually leading to the shedding of the functionalis layer and the cycle starts anew. (Critchley et al., 2020)\n",
    "\n",
    "Due to the lack of accurate models, endometrial epithelial organoids (EEO) have been developed recently. Organoids are three-dimensional structures derived from endometrial tissues or menstrual flow samples that maintain morphology, function and gene signature of the endometrium. Garcia-Alonso et al. have already found that ahead of hormonal treatment, the majority of organoids are proliferative and express estrogen receptors. The differentiation of organoid cells into ciliated and secretory cells and advancement of the menstrual cycle can be induced by ovarian hormones. However, it is still to be evaluated whether they resemble the endometrial epithelium closely enough in order to use them for in vitro research in context with diseases and fertility issues. (Garcia-Alonso et al., 2021)\n",
    "\n",
    "As EEO are still quite new, there are a lot of open questions regarding their potential of modelling the human endometrium. In order to address them, we investigated cell type specific and regulatory genes that are involved in the menstrual cycle both in human tissue and in organoids.The endometrium is a highly dynamic tissue with its gene expression driven by steroid hormones. Thus, endometrial organoids can be exptected to follow a similarly dynamic behavior upon hormonal treatment. By identifying a set of important genes in endometrial tissue samples as well as represented cell types, we compared patterns between tissue and corresponding organoids before and after hormonal treatment."
   ],
   "metadata": {
    "collapsed": false,
    "pycharm": {
     "name": "#%% md\n"
    }
   }
  },
  {
   "cell_type": "markdown",
   "source": [
    "## Methods  \n",
    "\n",
    "The data for the analysis was taken from the [Reproductive Cell Atlas](https://www.reproductivecellatlas.org). In the analysis, the Endometrium all dataset is compared to the Endometrium Organoid data. The downloadable objects contain a lot of different datasets from different donors in different stages of the menstrual cycle. The following datasets are included in the analysis:  \n",
    "\n",
    "* Tissue data of proliferative phase: 4861STDY7387181, 4861STDY7387182  \n",
    "* Tissue data of secretory phase: MRC_Endo8625698, MRC_Endo8625699  \n",
    "* Organoid data, control day 0,2,6: WSSS_END9397520, WSSS_END9397522, WSSS_END9397528    \n",
    "* Organoid data, hormone treated E2 only: WSSS_END9397521    \n",
    "* Organoid data, homrone treated E2+P4, day 2,6: WSSS_END9397527, WSSS_END9397533    \n",
    "        \n",
    "The tissue samples of the same phase and the organoid samples (3 control samples, 2 E2+P4 treated samples) were each merged. \n",
    "For the analysis, the scanpy pipeline v.1.8.2 (Wolf F.A, et.al 2018) was used.  \n",
    "Since the data was already filtered and normalised, the corresponding steps of the pipeline were skipped. Also the celltype labeling was done already and were taken completely from the published anndata object. The methods used to compare tissue and organoid data are clustering and the creation of UMAPs and the comparison of gene expression of tissue and organoids with heatmaps.  \n",
    "For detailed insights please see the additional [code notebook](https://github.com/vfschumann/Organoids_sc_WS2122/blob/master/processing_notebooks/Code_for_finalreport.ipynb)"
   ],
   "metadata": {
    "collapsed": false
   }
  },
  {
   "cell_type": "markdown",
   "source": [
    "## Results\n",
    "\n",
    "During the menstrual cylce the endometrium undergoes constant changes. Hereby multiple significant changes were identified and are used to classify the menstrual cycle in its flow, proliferating and secretory phase respectively. Among those characteristic changes are the dynamic in cell type composition and in expression of certain phase specific marker genes. In the following we present our results and steps that we took in order to investigate those in regards of endometrial tissue samples and organoids derived from endometrial biopsies. \n",
    "\n",
    "### Investigation of endometrial tissue data  \n",
    "\n",
    "In order to know how many samples from the tissue data we can use and whether or not we need to apply steps like data integration or batch correction, we investigated the samples by checking cluster results by using UMAPs. "
   ],
   "metadata": {
    "collapsed": false
   }
  },
  {
   "cell_type": "code",
   "execution_count": null,
   "outputs": [],
   "source": [
    "# adata_ti = AnnData object with all tissue samples as mentioned in Methods\n",
    "\n",
    "# preprocessing\n",
    "# unique feature names\n",
    "adata_ti.var_names_make_unique()\n",
    "# normalize\n",
    "# that's a somewhat arbitrary value since we don't know read counts, but we sticked with it since the \n",
    "# analysis seemed to be ok for our purpose\n",
    "sc.pp.normalize_total(adata_ti, target_sum=1e4) \n",
    "# logarithmize\n",
    "sc.pp.log1p(adata_ti)\n",
    "\n",
    "\n",
    "# UMAP calculations for plotting all tissue samples\n",
    "sc.pp.neighbors(adata_ti, n_neighbors=10, n_pcs=30)\n",
    "sc.tl.umap(adata_ti)\n",
    "\n",
    "# enabel sample wise analysis\n",
    "adata_ti_pro_1 = adata_ti[adata_ti.obs[\"SampleID\"] == \"4861STDY7387181\", :]  #pro sample 1\n",
    "adata_ti_pro_2 = adata_ti[adata_ti.obs[\"SampleID\"] == \"4861STDY7387182\", :]  #pro sample 2\n",
    "adata_ti_sec_1 = adata_ti[adata_ti.obs[\"SampleID\"] == \"MRC_Endo8625698\", :]  #sec sample 1\n",
    "adata_ti_sec_2 = adata_ti[adata_ti.obs[\"SampleID\"] == \"MRC_Endo8625699\", :]  #sec sample 2\n",
    "\n",
    "# merging both proliferating phase sample, and both secretory stage samples\n",
    "adata_ti_merged_proliferative = ad.concat([adata_ti_pro_1,\n",
    "                                           adata_ti_pro_2], join=\"outer\")\n",
    "adata_ti_merged_secretory = ad.concat([adata_ti_sec_1,\n",
    "                                       adata_ti_sec_2], join=\"outer\")\n",
    "\n",
    "data_list_merged_ti = [adata_ti_merged_proliferative, \n",
    "                       adata_ti_merged_secretory]\n",
    "\n",
    "# UMAP per men.cycle stage\n",
    "for item in data_list_merged_ti:\n",
    "    sc.pp.neighbors(item, n_neighbors=10, n_pcs=30)\n",
    "    sc.tl.umap(item)"
   ],
   "metadata": {
    "collapsed": false,
    "pycharm": {
     "name": "#%%\n",
     "is_executing": true
    }
   }
  },
  {
   "cell_type": "markdown",
   "source": [
    "![](Images/UMAPs/tissue-UMAPs.png)"
   ],
   "metadata": {
    "collapsed": false
   }
  },
  {
   "cell_type": "markdown",
   "source": [
    "\n",
    "**Figure 1**. **a** all tissue samples, clustered by sample. **b**, all tissue samples, clustered by cell type. **c** tissue samples, proliferative stage, clustered by sample. **d** tissue samples, secretory stage, clustered by sample. **e**  tissue samples, proliferative stage, clustered by cell type. **f** tissue samples, secretory stage, clustered by cell type."
   ],
   "metadata": {
    "collapsed": false
   }
  },
  {
   "cell_type": "markdown",
   "source": [
    "\n",
    "\n",
    "Figure 1,a,c shows that the two samples of each menstrual cycle phase cluster together. Therefore, the samples from each phase can be merged without additional batch correction or integration steps. In Figure 1 b,e,f the clustering after previously assigned cell type labels is shown. All clusters where found and we can therefore use this UMAP clustering parameters as basis for our downstream analysis. \n",
    "\n",
    "### Subsetting tissue data for epithelia cell types only\n",
    "\n",
    "Since only epithelial cell types are expected to be found in the organoid data, all cells except for Lumenal, Glandular, Ciliated and SOX9 cells are filtered out (as previously described [here](https://www.nature.com/articles/s41588-021-00972-2/figures/1)) for the following comparison of the tissue and organoid data."
   ],
   "metadata": {
    "collapsed": false
   }
  },
  {
   "cell_type": "code",
   "execution_count": null,
   "outputs": [],
   "source": [
    "# subsampling tissue for epithelia cells - based on Garcia-Alonso Fig. 1\n",
    "adata_ti_epithelia = adata_ti[adata_ti.obs[\"Cell type\"].isin([\"Glandular\",\n",
    "                                                              \"Lumenal\",\n",
    "                                                              \"Ciliated\",\n",
    "                                                              \"SOX9\"\n",
    "                                                              ]),:]\n",
    "# enable sample wise analysis\n",
    "adata_ti_pro_epithel_1 = adata_ti_epithelia[adata_ti_epithelia.obs[\"SampleID\"] == \"4861STDY7387181\", :]  #pro sample 1\n",
    "adata_ti_pro_epithel_2 = adata_ti_epithelia[adata_ti_epithelia.obs[\"SampleID\"] == \"4861STDY7387182\", :]  #pro sample 2\n",
    "adata_ti_sec_epithel_1 = adata_ti_epithelia[adata_ti_epithelia.obs[\"SampleID\"] == \"MRC_Endo8625698\", :]  #sec sample 1\n",
    "adata_ti_sec_epithel_2 = adata_ti_epithelia[adata_ti_epithelia.obs[\"SampleID\"] == \"MRC_Endo8625699\", :]  #sec sample 2\n",
    "\n",
    "# merging both proliferating phase sample, and both secretory stage samples\n",
    "adata_ti_merged_proliferative_epithelia = ad.concat([adata_ti_pro_epithel_1,\n",
    "                                                     adata_ti_pro_epithel_2], join=\"outer\")\n",
    "adata_ti_merged_secretory_epithelia = ad.concat([adata_ti_sec_epithel_1,\n",
    "                                                 adata_ti_sec_epithel_2], join=\"outer\")\n",
    "\n",
    "data_list_merged_ti_epithelia = [adata_ti_merged_proliferative_epithelia, adata_ti_merged_secretory_epithelia]\n",
    "\n",
    "# UMAP per men.cycle stage, epithelia only\n",
    "for item in data_list_merged_ti_epithelia:\n",
    "    sc.pp.neighbors(item, n_neighbors=10, n_pcs=30)\n",
    "    sc.tl.umap(item)"
   ],
   "metadata": {
    "collapsed": false,
    "pycharm": {
     "name": "#%%\n"
    }
   }
  },
  {
   "cell_type": "markdown",
   "source": [
    "\n",
    "\n",
    "![](Images/UMAPs/tissue-epithelia.png)"
   ],
   "metadata": {
    "collapsed": false
   }
  },
  {
   "cell_type": "markdown",
   "source": [
    "**Figure 2.** **a** Epithelial cells of proliferative stage, clustered by sample. **b** Epithelial cells of secretory stage, clustered by sample. **c** Epithelial cells of proliferative stage, clustered by cell type. **d** Epithelial cells of late-secretory stage, clustered by cell type."
   ],
   "metadata": {
    "collapsed": false
   }
  },
  {
   "cell_type": "markdown",
   "source": [
    "\n",
    "The epithelia cells from the proliferative tissue samples form two clusters that each contain cells of both samples. One cluster consists of mainly ciliated cells with a few SOX9 cells, while the other cluster contains mostly SOX9 cells and only a few cells of the other cell types that do not concentrate on a specific region in the cluster.\n",
    " Only 136 cells from the secretory phase tissue samples are labeled epithelia cells and almost all of them are from one sample. They also only form one cluster of mainly glandular cells.\n",
    "\n",
    "### Investigation of endometrial biopsy derived organoids\n",
    "\n",
    "We wanted to see if organoids behave in a similar manner as the endometrial tissue under influence of menstrual cylce hormones namely Estrogene (E2) and Progesterone (P4). We therefore investigated three samples of one control organoid that grew up to 6 days without hormone treatment and three samples of one organoid that grew up to 6 days and was undergoing hormone treatment with E2 and a mix of E2 and P4 respectively. "
   ],
   "metadata": {
    "collapsed": false
   }
  },
  {
   "cell_type": "code",
   "execution_count": null,
   "outputs": [],
   "source": [
    "# adata_org = AnnData object with all organoid samples as mentioned in Methods\n",
    "\n",
    "# preprocessing\n",
    "# unique feature names\n",
    "adata_org.var_names_make_unique()\n",
    "# normalize\n",
    "# that's a somewhat arbitrary value since we don't know read counts, but we sticked with it since the \n",
    "# analysis seemed to be ok for our purpose \n",
    "sc.pp.normalize_total(adata_org, target_sum=1e4) \n",
    "# logarithmize\n",
    "sc.pp.log1p(adata_org)\n",
    "\n",
    "# UMAP all organoid samples\n",
    "sc.pp.neighbors(adata_org, n_neighbors=10, n_pcs=30)\n",
    "sc.tl.umap(adata_org)\n",
    "\n",
    "# treament group wise analysis\n",
    "# controls\n",
    "adata_org_cntrl_0 = adata_org[adata_org.obs[\"sample_names\"] == \"WSSS_END9397520\",:] # cntrl, day0\n",
    "adata_org_cntrl_2 = adata_org[adata_org.obs[\"sample_names\"] == \"WSSS_END9397522\",:] #or sample 2 # day 6, comp: XAV939, no stim\n",
    "adata_org_cntrl_6 = adata_org[adata_org.obs[\"sample_names\"] == \"WSSS_END9397528\",:] #or sample 3 # day 6, no stim, no compound\n",
    "# merging controls\n",
    "adata_org_merged_cntrl = ad.concat([adata_org_cntrl_0, \n",
    "                                   adata_org_cntrl_2, \n",
    "                                   adata_org_cntrl_6], join=\"outer\" )\n",
    "\n",
    "# estrogen treated\n",
    "adata_org_tx_E2_0 = adata_org[adata_org.obs[\"sample_names\"] == \"WSSS_END9397521\",:] # E2, day 0\n",
    "\n",
    "# estrogen and progesteron treated \n",
    "adata_org_tx_E2P4_2 = adata_org[adata_org.obs[\"sample_names\"] == \"WSSS_END9397527\",:] # E2 + P4 day 2\n",
    "adata_org_tx_E2P4_6 = adata_org[adata_org.obs[\"sample_names\"] == \"WSSS_END9397533\",:] # E2 + P4, day 6\n",
    "# merging E2P4 treated\n",
    "adata_org_merged_E2P4 = ad.concat([adata_org_tx_E2P4_2, \n",
    "                                  adata_org_tx_E2P4_6], join=\"outer\")\n",
    "\n",
    "data_list_org_groups = [adata_org_merged_cntrl, \n",
    "                       adata_org_tx_E2_0,\n",
    "                       adata_org_merged_E2P4]\n",
    "\n",
    "# calculated UMAPs\n",
    "for item in data_list_org_groups:\n",
    "    sc.pp.neighbors(item, n_neighbors=10, n_pcs=30)\n",
    "    sc.tl.umap(item)"
   ],
   "metadata": {
    "collapsed": false,
    "pycharm": {
     "name": "#%%\n"
    }
   }
  },
  {
   "cell_type": "markdown",
   "source": [
    "\n",
    "\n",
    "![](Images/UMAPs/organoid-UMAPs.png)"
   ],
   "metadata": {
    "collapsed": false
   }
  },
  {
   "cell_type": "markdown",
   "source": [
    "**Figure 3:** **a** All endometrial organoid samples, control and hormone-treated, clustered by sample. **b** All endometrial organoid samples, control and hormone-treated, clustered by cell type. **c** Endometrial control organoid samples, clustered by sample. **d** Endometrial organoid sample treated with estrogen, clustered by sample. **e** Endometrial organoid samples treated with estrogen and progesterone, clustered by sample. **f** Endometrial control organoid samples, clustered by cell type. **g** Endometrial organoid samples treated with estrogen, clustered by cell type. **h** Endometrial organoid samples treated with estrogen ans progesterone, clustered by cell type."
   ],
   "metadata": {
    "collapsed": false
   }
  },
  {
   "cell_type": "markdown",
   "source": [
    "\n",
    "The cells cluster into three groups which are untreated cells, cells treated with estrogen (E2) and cells treated with both estrogen and progesterone (E2 and P4) (**a**). Therefore, the samples forming these groups are merged. UMAPs for the merged samples are then plotted and colored by sample and cell type.\n",
    "\n",
    "Figure 3 c and f show the control organoid cells that are not treated with any hormones. They form one cluster with cells from the different samples in different areas. Since they are not treated with hormones they are not differentiated so the only resemblances of the cells are deriving from being from the same sample which is why the samples do not overlap significantly. NH cells are \"non-hormonal\" cells that have not differentiated and therefore no specific cell type can be assigned to them.\n",
    "Figure 3 d and g show only the estrogen treated organoid cells that form two clusters while one consist mainly of estrogen induced cells that have responded to the estrogen treatment but not differentiated into a distinct cell type and the other one consists of pre-ciliated cells. Figure 3 e and h show that the cells treated with estrogen and progesterone form manly two clusters with an equal distribution of cells from both samples. The amount of non-hormonal and estrogen induced cells is low, the biggest cluster is formed by secretory cells. This cluster contains ciliated and secretory cells that could not be assigned with a more specific cell type due to the lack of details in the data.\n",
    "\n",
    "### Glandular cells among secretory cells in organoids can not be identified using SCGB2A2 only\n",
    "\n",
    "Garcia-Alonso et.al classified epithelia cells based on marker expression. Hereby they use *SCGB2A2* as marker gene for classifying glandular cells. They later describe the expression of *SCGB2A2* in organoids confirmed by immunohistochemistry(IHC) and describe that \"over a quarter of [the organoids] secretory cells correspond to glandular epithelium\". This observation was based on using an additional logistic classifier. Based on this we wanted to check if we can see that expected expression of *SCGB2A2* in our analysis too in order to see if we can observe a similar trend in proportion of glandular cells based on its expression only.   "
   ],
   "metadata": {
    "collapsed": false
   }
  },
  {
   "cell_type": "markdown",
   "source": [
    "\n",
    "![](Images/UMAPs/glandular-marker-UMAP.png)"
   ],
   "metadata": {
    "collapsed": false
   }
  },
  {
   "cell_type": "markdown",
   "source": [
    "**Figure 4.** UMAP of endometrial organoid samples treated with estrogen and progesterone, clustered by expression of glandular marker SCGB2A2."
   ],
   "metadata": {
    "collapsed": false
   }
  },
  {
   "cell_type": "markdown",
   "source": [
    "Figure 4 shows no detectable expression of SCGB2A2. Therefore it would also be impossible to classfify or even quantify glandular cells based on this marker only in the organoid samples. This strengthens the point that when labeling cell types, it is recommendable to take multiple marker genes or even whole gene expression patterns that consists of many genes (like when using a logistic classifier) into account.\n",
    "\n",
    "### Comparison of cell type composition dynamics between endometrial tissue and organoids in the course of hormone exposure\n",
    "\n",
    "In order to be able to analyse proportional changes of cell counts per cell type between states of the menstrual cycle in organoid and tissue data, we determine the total cell number per sample (tissue of proliferative phase, of secretory phase, control organoids and estrogen treated organoids), the cell number per cell type, the proportion per cell type and try to find increases or decreases over time.\n",
    "\n",
    "### Set of genes  that define the proliferating phase (WIP title\n",
    "\n",
    "* Small intro about why and which data we used\n",
    "    * Genes that define menstrual cycle phase from 3 papers:\n",
    "        * Ruiz-Alonso\n",
    "        * Wang\n",
    "        * Gracia-Alonso\n",
    "    * table with all genes we found in supplementary data\n",
    "* Heatmaps - tissue proliferating vs secretory\n",
    "* We checked for genes based on literature research\n",
    "<table>\n",
    "  <thead>\n",
    "    <tr>\n",
    "      <th>Gene</th>\n",
    "      <th>Menstrual cycle phase</th>\n",
    "      <th>cell type</th>\n",
    "      <th>found in sample</th>\n",
    "    </tr>\n",
    "  </thead>\n",
    "  <tbody>\n",
    "    <tr>\n",
    "      <td>FOXJ1</td>\n",
    "      <td>Proliferative</td>\n",
    "      <td> Ciliated Cells</td>\n",
    "      <td>organoids ...520, ...522, ...528</td>\n",
    "    </tr>\n",
    "    <tr>\n",
    "      <td>IGF and TGF family</td>\n",
    "      <td>Proliferative Phase</td>\n",
    "      <td> </td>\n",
    "      <td>merged data of proliferative phase tissue, all organoids</td>\n",
    "    </tr>\n",
    "    <tr>\n",
    "      <td>MMP11</td>\n",
    "      <td>Proliferative Phase</td>\n",
    "      <td> </td>\n",
    "      <td>merged tissue data of proliferative phase</td>\n",
    "    </tr>\n",
    "    <tr>\n",
    "      <td>MMP7</td>\n",
    "      <td>Proliferative Phase</td>\n",
    "      <td>SOX9</td>\n",
    "      <td>all organoids</td>\n",
    "    </tr>\n",
    "    <tr>\n",
    "      <td>sFRP</td>\n",
    "      <td>Proliferative Phase</td>\n",
    "      <td> </td>\n",
    "      <td>merged tissue data of proliferative phase</td>\n",
    "    </tr>\n",
    "    <tr>\n",
    "      <td>TFF3</td>\n",
    "      <td>Proliferative Phase</td>\n",
    "      <td> </td>\n",
    "      <td>all organoids</td>\n",
    "    </tr>\n",
    "    <tr>\n",
    "      <td>TPPP3</td>\n",
    "      <td>Proliferative Phase</td>\n",
    "      <td>ciliated cells</td>\n",
    "      <td>in all organoids and merged tissue data of proliferative phase</td>\n",
    "    </tr>\n",
    "    <tr>\n",
    "      <td>GPX3</td>\n",
    "      <td>Secretory phase</td>\n",
    "      <td> </td>\n",
    "      <td>merged tissue data of proliferative phase</td>\n",
    "    </tr>\n",
    "    <tr>\n",
    "      <td>PAEP</td>\n",
    "      <td>Secretory phase</td>\n",
    "      <td> </td>\n",
    "      <td>merged tissue data of proliferative phase, MRC_Endo8625698</td>\n",
    "    </tr>\n",
    "    <tr>\n",
    "      <td>SERPING1</td>\n",
    "      <td>Secretory phase</td>\n",
    "      <td> </td>\n",
    "      <td>merged tissue data of proliferative phase</td>\n",
    "  </tbody>\n",
    "</table>\n",
    "\n",
    "\n",
    "### Gene set analysis confirms…. (WIP title)\n",
    "* Heatmap of signature genes for tissue prolif, tissue secretory, organoids\n",
    "* Gene set analysis on respective genes\n",
    "\n",
    "![](Images/Heatmaps/heatmaps_tissue_vs_organoids_phase_markergenes.png)\n",
    "\n"
   ],
   "metadata": {
    "collapsed": false
   }
  },
  {
   "cell_type": "markdown",
   "source": [
    "**Figure 5.** Expression of signature genes for proliferative and secretory phase in vivo and organoids displayed for control organoids, hormone-treated organoids and tissue samples of proliferative and late-secretory phase. **a** Normalized heatmap. **b** Scaled heatmap."
   ],
   "metadata": {
    "collapsed": false
   }
  },
  {
   "cell_type": "markdown",
   "source": [
    "## Conclusions & Discussion\n",
    "\n",
    "* Viel steht schon hier: https://docs.google.com/document/d/18tMSGyjrvvr9IZT_Wi45HQXU3XapAVkhDs1AEo_D6Ag/edit#\n",
    "* Oder hier: https://docs.google.com/presentation/d/1iAt4uaWzHUSWHk0iJ9Nip65tl38gmAidhT5i0Nn8v6M/edit#slide=id.g10ca179b3ec_2_101\n",
    "* Muss zusammengesammelt werden\n",
    "* Eventuell verglichen werden damit was in den papern schon beschrieben wurde-\n",
    "* Und ein zusätzlicher ausblick dazu geschrieben werden\n",
    "\n",
    "* short summary of what we did (basically a summary of the results/methods section)\n",
    "we found that....\n",
    "* diskussion zu identified cell types fehlt noch?\n",
    "\n",
    "For the analysed tissue samples expression of marker genes representing their corresponding phase of the menstrual cycle, either proliferative phase or secretory phase, was detected. The markers used for determination of the menstrual cycle phases in our samples have been collected from multiple sources, though Garcia-Alonso et al. and Wang et al. have to be emphasized as the main source.\n",
    "\n",
    "In contrast, organoid samples without any hormone treatment did not show similar gene expression patterns as observed in the tissue samples of comparable menstrual cycle phase. As the menstrual phases are controlled by levels of steroid hormone levels, their absence in organoid tissue could lead to a decline in already established gene expression of their origin cells as the endometrial organoids mature. During the proliferative phase, estrogen levels begin to rise leading to the thickening of the endometrial lining through proliferation of stroma, glands and elongation of spiral arteries. The secretory phase begins after ovulation, when progesterone levels begin to rise and functionality is shifted towards secretion of glycogen and mucus. In the absence of pregnancy both estrogen and progesterone levels drop resulting in the shedding of the functionalis layer which corresponds to the menstrual phase.\n",
    "However, we were able to identify some marker genes of the proliferative phase in the organoids which is in agreement with the anaylsis of Garcia-Alonso et al. who found that before hormone treatment a majority of endometrial organoids are proliferative. This suggests that establishment of endometrial organoids reprograms the cells to restart the menstrual cycle independent of their original phase. In order to test this hypothesis further, one would need to compare the gene expression of multiple endometrial organoids taken from different donors at different time points of the menstrual cycle.\n",
    "\n",
    "As a means of comparison between menstrual cycle phases in tissue and organoids we then looked at gene expression in endometrial organoids stimulated with steroid hormones (estrogen and progesterone) simulating the in vivo process. Regarding marker genes for specific cycle phases, we mainly found proliferative phase markers in estrogen-treated as well as estrogen- and progesterone-treated organoids with an exception being secretory phase marker PAEP in the latter. As for the former, this result complies with the known course of the menstrual cycle as rising estrogen levels stimulate the beginning of the proliferative phase. In estrogen- and progesterone-treated organoids though, we expected further progress into early secretory phase which is driven by a rise in progesterone levels. A lack in the expected progress could however be a consequence of insufficient duration of incubation and growth after exposure to the steroid hormones. Contrary to our results, Garcia-Alonso et al. have found that organoids respond similarly to hormonal treatment as in vivo, based on label transfer through a logistic classifier. This is demonstrated by over a quarter of secretory cells in their analysis corresponding to glandular epithelium. After reviewing our data, we were not able to find markers genes used by them (SCGB2A2) nor could we detect an increase in glandular cells in organoids after hormonal treatment. In an effort to investigate this dynamic in the future, one could analyse the identified secretory cells in the organoid samples in further detail.\n",
    "\n",
    "To conclude, throughout our analysis of endometrial tissue and organoid data, we were able to demonstrate various properties and dynamics of the menstrual cycle in a similar manner as shown in our source paper, Garcia-Alonso et al.. Our results partly support the hypothesis that external hormonal factors influence the development endometrial organoids. Nonetheless, in order to define distinct connections between menstrual phases of endometrial donor and organoid, more data of endometrial organoids need to be gathered especially concerning the establishment of endometrial organoids from different donors at different stages of the menstrual cycle. We hope that further research will allow deeper exploration of the female reproductive system and enable great progress in understanding the human body just a little bit better."
   ],
   "metadata": {
    "collapsed": false
   }
  },
  {
   "cell_type": "markdown",
   "source": [
    "## Supplementary data  \n",
    "\n",
    "* Gene tables: https://docs.google.com/spreadsheets/d/1-2L3-qr_yDdG1Zxb-IiRRT0wm060z-aXWtQYWsjcbIo/edit#gid=0\n",
    "* sample tables  \n",
    "* ...."
   ],
   "metadata": {
    "collapsed": false
   }
  },
  {
   "cell_type": "markdown",
   "source": [
    "## References\n",
    "\n",
    "* Critchley et al., 2020: Physiology of the Endometrium and regulation of Menstruation\n",
    "* Figueira et al., 2011: Stem cells in endometrium and their role in the pathogenesis of endometriosis\n",
    "* Fitzgerald et al., 2019: Self-renewing endometrial epithelial organoids of the human uterus, https://doi.org/10.1073/pnas.1915389116\n",
    "* Garcia-Alonso et al., 2021: Mapping the temporal and spatial dynamics of the human endometrium in vivo and in vitro, https://www.nature.com/articles/s41588-021-00972-2?elqTrackId=29715d43a36740b19080e1%5B...%5D43a1abd06dc699818fd6&elqaid=32711&elqat=1&elqCampaignId=12372#Sec1\n",
    "* Wang et al., 2020: Single-cell transcriptomic atlas of the human endometrium during the menstrual cycle, https://www.nature.com/articles/s41591-020-1040-z\n",
    "* Wolf, F., Angerer, P. & Theis, F. SCANPY: large-scale single-cell gene expression data analysis. Genome Biol 19, 15 (2018). https://doi.org/10.1186/s13059-017-1382-0\n",
    "\n"
   ],
   "metadata": {
    "collapsed": false,
    "pycharm": {
     "name": "#%% md\n"
    }
   }
  }
 ],
 "metadata": {
  "kernelspec": {
   "display_name": "Python 3",
   "language": "python",
   "name": "python3"
  },
  "language_info": {
   "codemirror_mode": {
    "name": "ipython",
    "version": 2
   },
   "file_extension": ".py",
   "mimetype": "text/x-python",
   "name": "python",
   "nbconvert_exporter": "python",
   "pygments_lexer": "ipython2",
   "version": "2.7.6"
  }
 },
 "nbformat": 4,
 "nbformat_minor": 0
}