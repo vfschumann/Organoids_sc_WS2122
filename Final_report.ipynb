{
 "cells": [
  {
   "cell_type": "markdown",
   "metadata": {
    "collapsed": true,
    "pycharm": {
     "name": "#%% md\n"
    }
   },
   "source": [
    "# Endometrial epithelial organoids - Is the menstrual cycle stage of donors mapped in organoids derived from endometrial biopsies?  \n",
    "## Final report Q-Team course: “single-cell RNA Seq of Organoids:  a new window into disease and development”  \n",
    "\n",
    "### Julia Dreimann, Franziksa Koch, Vic-Fabienne Schumann, Olyssa Sperling"
   ]
  },
  {
   "cell_type": "markdown",
   "source": [
    "## Abstract (WIP)\n",
    "\n",
    "The endometrial epithelium is a highly dynamic tissue which makes its research difficult. This is why, even though a lot of women all over the world struggle with diseases connected to the endometrial epithelium, very little research has been done so far. Organoids offer new ways to gain insight into the dynamics and functioning of this tissue, but are themselves still a new method of modelling human organs. The goal of this report is to assess whether the menstrual cycle stage of donors is mapped in organoids derived from endometrial biopsies or if their development depends solely on external factors during breeding.\n",
    "Result: ??"
   ],
   "metadata": {
    "collapsed": false,
    "pycharm": {
     "name": "#%% md\n"
    }
   }
  },
  {
   "cell_type": "markdown",
   "source": [
    "## General Information\n",
    "\n",
    "This report describes the analysis of single cell sequencing data of endometrial epithelial tissue samples and organoids and the comparison of these two datasets regarding the research question stated above. The research was done as a part of the Q-Teams course \"single-cell RNA-sequencing of Organoids: a new window into disease and development\" held online by Nikolaos Karaiskos and Tancredi Massimo Pentimalli in the winter semester 2021/22."
   ],
   "metadata": {
    "collapsed": false,
    "pycharm": {
     "name": "#%% md\n"
    }
   }
  },
  {
   "cell_type": "markdown",
   "source": [
    "## Introduction    \n",
    "\n",
    "* Topic Introduction: information about menstrual cycle\n",
    "    * Endometrium = inner lining of the human uterus  \n",
    "        * single layer of pseudostratified luminal epithelium  \n",
    "        * branched columnar glandular epithelium  \n",
    "        * supported by fibroblasts, immune cells, vascular and lymphatic systems  \n",
    "        * plays crucial role in human reproduction  \n",
    "    * Questions for us:  \n",
    "        * genes   \n",
    "            * cell type specific  \n",
    "            * that play a role in menstrual cycle at all  \n",
    "        * cell types  \n",
    "            * that we expect to change between the cycle states  \n",
    "    * Are there any differences in endometrial organoids derived from donors at different states in the menstrual cycle?   \n",
    "        * Can we identify significantly different sets of genes or cell-type mixtures for day 9 and 27? (using biopsy, menstrual-cycle atlas)  \n",
    "        * Then looking for two things in Organoids:  \n",
    "            * can we identify differences in the sets of genes or cell-types in organoids too?   \n",
    "\n",
    "* Knowledge from existing literature: before hormonal treatment, majority of cells within organoids are proliferative (expressing TOP2A, PCNA) and express estrogen receptor, presence of estrogen will induce differentiation into secretory phase cells  \n",
    "* Open questions: how does the phase of the menstrual cycle of the donor, from which the organoid is derived, affect the gene expression patterns in the organoid? Do organoids from donors in different phases of the cycle react to hormonal treatment differently?(will not be answered by us) Can comparability be ensured?"
   ],
   "metadata": {
    "collapsed": false,
    "pycharm": {
     "name": "#%% md\n"
    }
   }
  },
  {
   "cell_type": "markdown",
   "source": [
    "## Methods  \n",
    "\n",
    "* Data we used: Reproductive Cell Atlas (Endometrium all and Endometrium Organoid)\n",
    "    * objects we used contained a lot of different datasets from different donors of different stages of the menstrual cycle, we picked the following datasets (SampleIDs):\n",
    "        * Tissue data of proliferative phase: 4861STDY7387181, 4861STDY7387182\n",
    "        * Tissue data of secretory phase: MRC_Endo8625698, MRC_Endo8625699\n",
    "        * Organoid data: WSSS_END9397520, WSSS_END9397522, WSSS_END9397528\n",
    "* Tissue samples of same phase and organoid samples were each merged\n",
    "* scanpy Pipeline for Preprocessing and clustering:\n",
    "    https://scanpy-tutorials.readthedocs.io/en/latest/pbmc3k.html\n",
    "* Data was already filtered and normalised\n",
    "* Clustering, comparing gene expression of tissue and organoid with heatmaps, use marker genes to verify the mapping of the menstrual cycle phase of the donor within the organoid\n",
    "(* Which data, what did we do to the data?\n",
    "* Which samples were merged  \n",
    "* How normalized etc.   \n",
    "* We used scanpy)\n",
    "* Gene set analysis with diffpyx"
   ],
   "metadata": {
    "collapsed": false
   }
  },
  {
   "cell_type": "markdown",
   "source": [
    "## Results\n",
    "Always mentioning when we scaled and how or normalized and how\n",
    "\n",
    "### Set of genes  that define the proliferating phase (WIP title\n",
    "* Small intro about why and which data we used\n",
    "    * Genes that define menstrual cycle phase from 3 papers:\n",
    "        * Ruiz-Alonso\n",
    "        * Wang\n",
    "        * Gracia-Alonso\n",
    "    * tabel with all genes we found in supplementary data\n",
    "* Heatmaps - tissue proliferating vs secretory\n",
    "* We checked for genes based on literature research\n",
    "\n",
    "### Comparability of tissue and organoids (WIP title)\n",
    "* Intro that describes oragnoid data and that we merged them\n",
    "* Here we describe narrowing down the cell type and why\n",
    "* UMAP comparisons between prolif. Tissue and organoids:\n",
    "\n",
    "![](Images/UMAPs/Ti-merged-pro-sample.png)\n",
    "![](Images/UMAPs/Ti-merged-sec-sample.png)\n",
    "![](Images/UMAPs/Ti-merged-pro-celltype.png)\n",
    "![](Images/UMAPs/Ti-merged-sec-celltype.png)\n",
    "![](Images/UMAPs/or-merged-samples.png)\n",
    "![](Images/UMAPs/or-merged-celltype.png)\n",
    "\n",
    "*Heatmaps:\n",
    "\n",
    "![](Images/Heatmaps/all-merged-markers-pro-sec-or.png)\n",
    "![](Images/Heatmaps/pro-or-merged.png)\n",
    "\n",
    "\n",
    "* Decision to go for subset of cell types (e.g. proliferating\n",
    "\n",
    "### Gene set analysis confirms…. (WIP title)\n",
    "* Heatmap of signature genes for tissue prolif, tissue secretory, organoids\n",
    "* Gene set analysis on respective genes\n",
    "\n",
    "<table>\n",
    "  <thead>\n",
    "    <tr>\n",
    "      <th>Gene</th>\n",
    "      <th>Menstrual cycle phase</th>\n",
    "      <th>cell type</th>\n",
    "      <th>found in sample</th>\n",
    "    </tr>\n",
    "  </thead>\n",
    "  <tbody>\n",
    "    <tr>\n",
    "      <td>FOXJ1</td>\n",
    "      <td>Proliferative</td>\n",
    "      <td> Ciliated Cells</td>\n",
    "      <td>organoids ...520, ...522, ...528</td>\n",
    "    </tr>\n",
    "    <tr>\n",
    "      <td>IGF and TGF family</td>\n",
    "      <td>Proliferative Phase</td>\n",
    "      <td> </td>\n",
    "      <td>merged data of proliferative phase tissue, all organoids</td>\n",
    "    </tr>\n",
    "    <tr>\n",
    "      <td>MMP11</td>\n",
    "      <td>Proliferative Phase</td>\n",
    "      <td> </td>\n",
    "      <td>merged tissue data of proliferative phase</td>\n",
    "    </tr>\n",
    "    <tr>\n",
    "      <td>MMP7</td>\n",
    "      <td>Proliferative Phase</td>\n",
    "      <td>SOX9</td>\n",
    "      <td>all organoids</td>\n",
    "    </tr>\n",
    "    <tr>\n",
    "      <td>sFRP</td>\n",
    "      <td>Proliferative Phase</td>\n",
    "      <td> </td>\n",
    "      <td>merged tissue data of proliferative phase</td>\n",
    "    </tr>\n",
    "    <tr>\n",
    "      <td>TFF3</td>\n",
    "      <td>Proliferative Phase</td>\n",
    "      <td> </td>\n",
    "      <td>all organoids</td>\n",
    "    </tr>\n",
    "    <tr>\n",
    "      <td>??? fehlt in google tabelle</td>\n",
    "      <td>Proliferative Phase</td>\n",
    "      <td>ciliated cells</td>\n",
    "      <td>in all organoids and merged tissue data of proliferative phase</td>\n",
    "    </tr>\n",
    "    <tr>\n",
    "      <td>GPX3</td>\n",
    "      <td>Secretory phase</td>\n",
    "      <td> </td>\n",
    "      <td>merged tissue data of proliferative phase</td>\n",
    "    </tr>\n",
    "    <tr>\n",
    "      <td>PAEP</td>\n",
    "      <td>Secretory phase</td>\n",
    "      <td> </td>\n",
    "      <td>merged tissue data of proliferative phase, MRC_Endo8625698</td>\n",
    "    </tr>\n",
    "    <tr>\n",
    "      <td>SERPING1</td>\n",
    "      <td>Secretory phase</td>\n",
    "      <td> </td>\n",
    "      <td>merged tissue data of proliferative phase</td>\n",
    "  </tbody>\n",
    "</table>\n"
   ],
   "metadata": {
    "collapsed": false
   }
  },
  {
   "cell_type": "markdown",
   "source": [
    "## Conclusions & Discussion\n",
    "\n",
    "* Viel steht schon hier: https://docs.google.com/document/d/18tMSGyjrvvr9IZT_Wi45HQXU3XapAVkhDs1AEo_D6Ag/edit#\n",
    "* Oder hier: https://docs.google.com/presentation/d/1iAt4uaWzHUSWHk0iJ9Nip65tl38gmAidhT5i0Nn8v6M/edit#slide=id.g10ca179b3ec_2_101\n",
    "* Muss zusammengesammlet werden\n",
    "* Eventuell verglichen werden damit was in den papern schon beschrieben wurde-\n",
    "* Und ein zusätzlicher ausblick dazu geschrieben werden\n"
   ],
   "metadata": {
    "collapsed": false
   }
  },
  {
   "cell_type": "markdown",
   "source": [
    "## Supplementary data  \n",
    "\n",
    "* Gene tables: https://docs.google.com/spreadsheets/d/1-2L3-qr_yDdG1Zxb-IiRRT0wm060z-aXWtQYWsjcbIo/edit#gid=0\n",
    "* sample tables  \n",
    "* ...."
   ],
   "metadata": {
    "collapsed": false
   }
  },
  {
   "cell_type": "code",
   "execution_count": null,
   "outputs": [],
   "source": [],
   "metadata": {
    "collapsed": false,
    "pycharm": {
     "name": "#%%\n"
    }
   }
  }
 ],
 "metadata": {
  "kernelspec": {
   "display_name": "Python 3",
   "language": "python",
   "name": "python3"
  },
  "language_info": {
   "codemirror_mode": {
    "name": "ipython",
    "version": 2
   },
   "file_extension": ".py",
   "mimetype": "text/x-python",
   "name": "python",
   "nbconvert_exporter": "python",
   "pygments_lexer": "ipython2",
   "version": "2.7.6"
  }
 },
 "nbformat": 4,
 "nbformat_minor": 0
}