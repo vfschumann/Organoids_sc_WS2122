{
 "cells": [
  {
   "cell_type": "markdown",
   "metadata": {
    "collapsed": true,
    "pycharm": {
     "name": "#%% md\n"
    }
   },
   "source": [
    "# Endometrial epithelial organoids - Is the menstrual cycle stage of donors mapped in organoids derived from endometrial biopsies?  \n",
    "## Final report Q-Team course: “single-cell RNA Seq of Organoids:  a new window into disease and development”  \n",
    "\n",
    "### Julia Dreimann, Franziksa Koch, Vic-Fabienne Schumann, Olyssa Sperling"
   ]
  },
  {
   "cell_type": "markdown",
   "source": [
    "## Abstract (WIP)\n",
    "\n",
    "The endometrial epithelium is a highly dynamic tissue which makes its research difficult. Therefore very little research has been done to this point, even though a lot of women all over the world struggle with diseases connected to the endometrial epithelium. Organoids offer new ways to gain insight into the dynamics and functioning of this tissue, but are themselves still a new method of modelling human organs. The goal of this report is to assess whether the menstrual cycle stage of donors is mapped in organoids derived from endometrial biopsies or whether their development depends solely on external factors during breeding.\n",
    "Result: ??"
   ],
   "metadata": {
    "collapsed": false,
    "pycharm": {
     "name": "#%% md\n"
    }
   }
  },
  {
   "cell_type": "markdown",
   "source": [
    "## General Information\n",
    "\n",
    "This report describes the analysis of single cell sequencing data of endometrial epithelial tissue samples and organoids and the comparison of these two datasets in regards to similarities in development and gene expression. The research was done as a part of the Q-Teams course \"single-cell RNA-sequencing of Organoids: a new window into disease and development\" held online by Nikolaos Karaiskos and Tancredi Massimo Pentimalli in the winter semester 2021/22."
   ],
   "metadata": {
    "collapsed": false,
    "pycharm": {
     "name": "#%% md\n"
    }
   }
  },
  {
   "cell_type": "markdown",
   "source": [
    "## Introduction\n",
    "\n",
    "### Information about menstrual cycle and endometrium\n",
    "\n",
    "The human endometrium is not shared with many other species. Therefore, common model organisms like mouse, zebrafish or fly can not be used for research. The human endometrium undergoes a monthly cycle of remodeling, shedding and regeneration. The cycle can be split into two major phases which are the proliferative and the secretory phase seperated by ovulation. It starts with menstruation during which the functional upper layer, the stratum fuctionalis, is shed. Rising levels of estrogen then induce subsequent tissue repair and proliferation. After ovulation progesterone levels rise and induce secretory phase during which decidualization takes place. The window of implantation is during secretory phase, at this time the endometrium is structurally and biochemically ideal for the implantation of an embryo. After implantation, the endometrium is the site of pregnancy and therefore plays a crucial role in human reproduction.\n",
    "\n",
    "The endometrium consists of lumenal and glandular epithelia, which are composed of ciliated and secretory cells. Covering the surface of the endometrium, the lumenal epithelium is the site of embryo attachment. The branched columnar glands open into the lumen and produce secretions that are rich in growth factors and lipids essential for placenta growth. The epithelia are supported by fibroblasts, immune cells, vascular and lymphatic systems.\n",
    "\n",
    "Due to the lack of model organisms, endometrial epithelial organoids (EEO) were developed. Organoids are three-dimensional structures derived from endometrial tissues or menstrual flow samples that maintain morphology, function and gene signature of the endometrium. The differentiation of organoid cells into ciliated and secretory cells can be induced by ovarian hormones. It is to be evaluated whether they resemble the endometrial epithelium closely enough in order to use them for in vitro research on diseases and fertility issues.\n",
    "\n",
    "Since EEO are still quite new, there are a lot of open questions. In order to address them, it is necessary to find cell type specific genes and genes that are involved in the regulation of the menstrual cycle both in tissue and in organoid data. The endometrial epithelium is a highly dynamic tissue, so endometrial epithelial organoids will most likely be dynamic as well or at least able to vary their composition and differentiation regarding different cell types. Treatment with estrogen and progesterone will influence the differentiation into ciliated and secretory cells. With a set of genes that identify the cell types in the tissue samples, it is possible to assign cell types to the organoid data and compare their composition to the tissue data as well as analyse the differentiation upon hormonal treatment in the organoid.\n",
    "\n",
    "It is known that before hormonal treatment, the majority of cells within organoids are proliferative (expressing TOP2A, PCNA) and express estrogen receptors. The presence of estrogen will induce differentiation into ciliated and secretory cells. (Garcia-Alonso and Wang)\n"
   ],
   "metadata": {
    "collapsed": false,
    "pycharm": {
     "name": "#%% md\n"
    }
   }
  },
  {
   "cell_type": "markdown",
   "source": [
    "## Methods  \n",
    "\n",
    "The data for the analysis was taken from the Reproductive Cell Atlas (https://www.reproductivecellatlas.org). In the analysis, the Endometrium all dataset is compared to the Endometrium Organoid data. The downloadable objects contain a lot of different datasets from different donors in different stages of the menstrual cycle. The following datasets are included in the analysis:\n",
    "        * Tissue data of proliferative phase: 4861STDY7387181, 4861STDY7387182\n",
    "        * Tissue data of secretory phase: MRC_Endo8625698, MRC_Endo8625699\n",
    "        * Organoid data: WSSS_END9397520, WSSS_END9397522, WSSS_END9397528\n",
    "The tissue samples of the same phase and the organoid samples were each merged.\n",
    "For the analysis, the scanpy pipeline for preprocessing and clustering (https://scanpy-tutorials.readthedocs.io/en/latest/pbmc3k.html) was used. Since the data was already filtered and normalised, the corresponding steps of the pipeline were skipped. The methods used to compare tissue and organoid data are clustering and the creation of UMAPs and the comparison of gene expression of tissue and organoids with heatmaps.\n",
    "\n",
    "* Gene set analysis with diffpyx"
   ],
   "metadata": {
    "collapsed": false
   }
  },
  {
   "cell_type": "markdown",
   "source": [
    "## Results\n",
    "Always mentioning when we scaled and how or normalized and how\n",
    "\n",
    "### Set of genes  that define the proliferating phase (WIP title\n",
    "* Small intro about why and which data we used\n",
    "    * Genes that define menstrual cycle phase from 3 papers:\n",
    "        * Ruiz-Alonso\n",
    "        * Wang\n",
    "        * Gracia-Alonso\n",
    "    * tabel with all genes we found in supplementary data\n",
    "* Heatmaps - tissue proliferating vs secretory\n",
    "* We checked for genes based on literature research\n",
    "\n",
    "### Comparability of tissue and organoids (WIP title)\n",
    "* Intro that describes oragnoid data and that we merged them\n",
    "* Here we describe narrowing down the cell type and why\n",
    "* UMAP comparisons between prolif. Tissue and organoids:\n",
    "\n",
    "![](Images/UMAPs/Ti-merged-pro-sample.png)\n",
    "![](Images/UMAPs/Ti-merged-sec-sample.png)\n",
    "![](Images/UMAPs/Ti-merged-pro-celltype.png)\n",
    "![](Images/UMAPs/Ti-merged-sec-celltype.png)\n",
    "![](Images/UMAPs/or-merged-samples.png)\n",
    "![](Images/UMAPs/or-merged-celltype.png)\n",
    "\n",
    "*Heatmaps:\n",
    "\n",
    "![](Images/Heatmaps/all-merged-markers-pro-sec-or.png)\n",
    "![](Images/Heatmaps/pro-or-merged.png)\n",
    "\n",
    "\n",
    "* Decision to go for subset of cell types (e.g. proliferating\n",
    "\n",
    "### Gene set analysis confirms…. (WIP title)\n",
    "* Heatmap of signature genes for tissue prolif, tissue secretory, organoids\n",
    "* Gene set analysis on respective genes\n",
    "\n",
    "<table>\n",
    "  <thead>\n",
    "    <tr>\n",
    "      <th>Gene</th>\n",
    "      <th>Menstrual cycle phase</th>\n",
    "      <th>cell type</th>\n",
    "      <th>found in sample</th>\n",
    "    </tr>\n",
    "  </thead>\n",
    "  <tbody>\n",
    "    <tr>\n",
    "      <td>FOXJ1</td>\n",
    "      <td>Proliferative</td>\n",
    "      <td> Ciliated Cells</td>\n",
    "      <td>organoids ...520, ...522, ...528</td>\n",
    "    </tr>\n",
    "    <tr>\n",
    "      <td>IGF and TGF family</td>\n",
    "      <td>Proliferative Phase</td>\n",
    "      <td> </td>\n",
    "      <td>merged data of proliferative phase tissue, all organoids</td>\n",
    "    </tr>\n",
    "    <tr>\n",
    "      <td>MMP11</td>\n",
    "      <td>Proliferative Phase</td>\n",
    "      <td> </td>\n",
    "      <td>merged tissue data of proliferative phase</td>\n",
    "    </tr>\n",
    "    <tr>\n",
    "      <td>MMP7</td>\n",
    "      <td>Proliferative Phase</td>\n",
    "      <td>SOX9</td>\n",
    "      <td>all organoids</td>\n",
    "    </tr>\n",
    "    <tr>\n",
    "      <td>sFRP</td>\n",
    "      <td>Proliferative Phase</td>\n",
    "      <td> </td>\n",
    "      <td>merged tissue data of proliferative phase</td>\n",
    "    </tr>\n",
    "    <tr>\n",
    "      <td>TFF3</td>\n",
    "      <td>Proliferative Phase</td>\n",
    "      <td> </td>\n",
    "      <td>all organoids</td>\n",
    "    </tr>\n",
    "    <tr>\n",
    "      <td>??? fehlt in google tabelle</td>\n",
    "      <td>Proliferative Phase</td>\n",
    "      <td>ciliated cells</td>\n",
    "      <td>in all organoids and merged tissue data of proliferative phase</td>\n",
    "    </tr>\n",
    "    <tr>\n",
    "      <td>GPX3</td>\n",
    "      <td>Secretory phase</td>\n",
    "      <td> </td>\n",
    "      <td>merged tissue data of proliferative phase</td>\n",
    "    </tr>\n",
    "    <tr>\n",
    "      <td>PAEP</td>\n",
    "      <td>Secretory phase</td>\n",
    "      <td> </td>\n",
    "      <td>merged tissue data of proliferative phase, MRC_Endo8625698</td>\n",
    "    </tr>\n",
    "    <tr>\n",
    "      <td>SERPING1</td>\n",
    "      <td>Secretory phase</td>\n",
    "      <td> </td>\n",
    "      <td>merged tissue data of proliferative phase</td>\n",
    "  </tbody>\n",
    "</table>\n"
   ],
   "metadata": {
    "collapsed": false
   }
  },
  {
   "cell_type": "markdown",
   "source": [
    "## Conclusions & Discussion\n",
    "\n",
    "* Viel steht schon hier: https://docs.google.com/document/d/18tMSGyjrvvr9IZT_Wi45HQXU3XapAVkhDs1AEo_D6Ag/edit#\n",
    "* Oder hier: https://docs.google.com/presentation/d/1iAt4uaWzHUSWHk0iJ9Nip65tl38gmAidhT5i0Nn8v6M/edit#slide=id.g10ca179b3ec_2_101\n",
    "* Muss zusammengesammlet werden\n",
    "* Eventuell verglichen werden damit was in den papern schon beschrieben wurde-\n",
    "* Und ein zusätzlicher ausblick dazu geschrieben werden\n",
    "\n",
    "* short summary of what we did (basically a summary of the results/methods section)\n",
    "we found that....\n",
    "For the analysed tissue samples expression of marker genes representing their corresponding phase, either proliferative phase or secretory phase, of the menstrual cycle was detected. The markers used for determination of the menstrual cycle phases in our samples have been collected from multiple sources, though Garcia-Alonso et al. and Wang et al. have to be emphasized as main contributors.\n",
    "In contrast, organoid samples without any hormone treatment did not show similar gene expression patterns as observed in the tissue samples of comparable menstrual cycle phase. As the menstrual phases are controlled by levels of steroid hormone levels, their absence in organoid tissue could lead to a decline in already established gene expression of their origin cells as the endometrial organoids mature. During the proliferative phase, estrogen levels begin to rise leading to the thickening of the endometrial lining through proliferation of stroma, glands and elongation of spiral arteries. The secretory phase begins after ovulation, when progesterone levels begin to rise and functionality is shifted towards secretion of glycogen and mucus. In the absence of pregnancy both estrogen and progesterone levels drop resulting in the shedding of the functionalis layer which corresponds to the menstrual phase.\n",
    "However, we were able to identify some marker genes of the proliferative phase in the organoids which is in agreement with the anaylsis of Garcia-Alonso et al. who found that before hormone treatment a majority of endometrial organoids are proliferative. This suggests that establishment of endometrial organoids reprograms the cells to restart the menstrual cycle independent of their original phase. In order to test this hypothesis further, one would need to compare the gene expression of multiple endometrial organoids taken from different donors at different time points of the menstrual cycle.\n",
    "* results of the organoids with hormone treatment, compare to garcia-alonso paper\n",
    "* conclusion/answer of our research question, Ausblick (was würden wir noch machen, wenn mehr Zeit wäre; was für experimentelle Ansätze hätten wir zum beantworten noch offener Fragen; Zukunft von endometrial organoids?)\n"
   ],
   "metadata": {
    "collapsed": false
   }
  },
  {
   "cell_type": "markdown",
   "source": [
    "## Supplementary data  \n",
    "\n",
    "* Gene tables: https://docs.google.com/spreadsheets/d/1-2L3-qr_yDdG1Zxb-IiRRT0wm060z-aXWtQYWsjcbIo/edit#gid=0\n",
    "* sample tables  \n",
    "* ...."
   ],
   "metadata": {
    "collapsed": false
   }
  },
  {
   "cell_type": "markdown",
   "source": [
    "## References\n",
    "\n",
    "* Garcia-Alonso: Mapping the temporal and spatial dynamics of the human endometrium in vivo and in vitro, https://www.nature.com/articles/s41588-021-00972-2?elqTrackId=29715d43a36740b19080e1%5B...%5D43a1abd06dc699818fd6&elqaid=32711&elqat=1&elqCampaignId=12372#Sec1\n",
    "* Wang: Single-cell transcriptomic atlas of the human endometrium during the menstrual cycle, https://www.nature.com/articles/s41591-020-1040-z"
   ],
   "metadata": {
    "collapsed": false,
    "pycharm": {
     "name": "#%% md\n"
    }
   }
  }
 ],
 "metadata": {
  "kernelspec": {
   "display_name": "Python 3",
   "language": "python",
   "name": "python3"
  },
  "language_info": {
   "codemirror_mode": {
    "name": "ipython",
    "version": 2
   },
   "file_extension": ".py",
   "mimetype": "text/x-python",
   "name": "python",
   "nbconvert_exporter": "python",
   "pygments_lexer": "ipython2",
   "version": "2.7.6"
  }
 },
 "nbformat": 4,
 "nbformat_minor": 0
}