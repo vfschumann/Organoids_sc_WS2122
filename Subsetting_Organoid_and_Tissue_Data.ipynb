{
 "cells": [
  {
   "cell_type": "markdown",
   "source": [
    "# 1. Importing packages and Data"
   ],
   "metadata": {
    "collapsed": false,
    "pycharm": {
     "name": "#%% md\n"
    }
   }
  },
  {
   "cell_type": "code",
   "execution_count": 1,
   "outputs": [],
   "source": [
    "import pandas as pd\n",
    "import numpy as np\n",
    "import matplotlib as plt\n",
    "#import scikit-learn as sci\n",
    "import scanpy as sc\n",
    "import matplotlib.pyplot as plt\n",
    "import anndata as ad"
   ],
   "metadata": {
    "collapsed": false,
    "pycharm": {
     "name": "#%%\n"
    }
   }
  },
  {
   "cell_type": "code",
   "execution_count": 2,
   "outputs": [
    {
     "name": "stdout",
     "output_type": "stream",
     "text": [
      "scanpy==1.8.2 anndata==0.7.8 umap==0.5.2 numpy==1.20.3 scipy==1.7.3 pandas==1.3.5 scikit-learn==1.0.1 statsmodels==0.13.1 python-igraph==0.9.8 louvain==0.7.1 pynndescent==0.5.5\n"
     ]
    }
   ],
   "source": [
    "sc.settings.verbosity = 3\n",
    "sc.logging.print_header()\n",
    "sc.settings.set_figure_params(dpi=80, facecolor='white')\n",
    "results_file = 'franziskakoch/PycharmProjects/Organoid_sc_WS2122/write/pbmc3k.h5ad'"
   ],
   "metadata": {
    "collapsed": false,
    "pycharm": {
     "name": "#%%\n"
    }
   }
  },
  {
   "cell_type": "code",
   "execution_count": null,
   "outputs": [],
   "source": [
    "adata_ti = sc.read_h5ad(\n",
    "   'cache/endometrium_all.h5ad')  # the directory with the `.mtx` file                # use gene symbols for the variable names (variables-axis )                              # write a cache file for faster subsequent reading\n",
    "adata_ti.var_names_make_unique()\n",
    "\n",
    "adata_or = sc.read_h5ad(\n",
    "   'cache/endometrium_organoid.h5ad')  # the directory with the `.mtx` file                # use gene symbols for the variable names (variables-axis )                              # write a cache file for faster subsequent reading\n",
    "adata_ti.var_names_make_unique()"
   ],
   "metadata": {
    "collapsed": false,
    "pycharm": {
     "name": "#%%\n",
     "is_executing": true
    }
   }
  },
  {
   "cell_type": "markdown",
   "source": [
    "# 2. Subsetting the Data"
   ],
   "metadata": {
    "collapsed": false,
    "pycharm": {
     "name": "#%% md\n"
    }
   }
  },
  {
   "cell_type": "markdown",
   "source": [
    "## 2.1 Tissue Data"
   ],
   "metadata": {
    "collapsed": false,
    "pycharm": {
     "name": "#%% md\n"
    }
   }
  },
  {
   "cell_type": "code",
   "execution_count": null,
   "outputs": [],
   "source": [
    "adata_ti_pro_1 = adata_ti[adata_ti.obs[\"SampleID\"] == \"4861STDY7387181\",:] #pro sample 1\n",
    "adata_ti_pro_2 = adata_ti[adata_ti.obs[\"SampleID\"] == \"4861STDY7387182\",:] #pro sample 2\n",
    "adata_ti_sec_1 = adata_ti[adata_ti.obs[\"SampleID\"] == \"MRC_Endo8625698\",:] #sec sample 1\n",
    "adata_ti_sec_2 = adata_ti[adata_ti.obs[\"SampleID\"] == \"MRC_Endo8625699\",:] #sec sample 2\n",
    "\n",
    "data_list_ti = [adata_ti_pro_1, adata_ti_pro_2, adata_ti_sec_1, adata_ti_sec_2]"
   ],
   "metadata": {
    "collapsed": false,
    "pycharm": {
     "name": "#%%\n"
    }
   }
  },
  {
   "cell_type": "markdown",
   "source": [
    "# 2.2 Organoid Data"
   ],
   "metadata": {
    "collapsed": false,
    "pycharm": {
     "name": "#%% md\n"
    }
   }
  },
  {
   "cell_type": "code",
   "execution_count": null,
   "outputs": [],
   "source": [
    "adata_or_1 = adata_or[adata_or.obs[\"sample_names\"] == \"WSSS_END9397520\",:] #or sample 1\n",
    "adata_or_2 = adata_or[adata_or.obs[\"sample_names\"] == \"WSSS_END9397522\",:] #or sample 2\n",
    "adata_or_3 = adata_or[adata_or.obs[\"sample_names\"] == \"WSSS_END9397528\",:] #or sample 3\n",
    "\n",
    "data_list_or = [adata_or_1, adata_or_2, adata_or_3]"
   ],
   "metadata": {
    "collapsed": false,
    "pycharm": {
     "name": "#%%\n"
    }
   }
  }
 ],
 "metadata": {
  "kernelspec": {
   "display_name": "Python 3",
   "language": "python",
   "name": "python3"
  },
  "language_info": {
   "codemirror_mode": {
    "name": "ipython",
    "version": 2
   },
   "file_extension": ".py",
   "mimetype": "text/x-python",
   "name": "python",
   "nbconvert_exporter": "python",
   "pygments_lexer": "ipython2",
   "version": "2.7.6"
  }
 },
 "nbformat": 4,
 "nbformat_minor": 0
}