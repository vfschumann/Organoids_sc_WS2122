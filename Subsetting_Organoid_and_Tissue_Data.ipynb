{
 "cells": [
  {
   "cell_type": "markdown",
   "source": [
    "# 1. Importing packages and Data"
   ],
   "metadata": {
    "collapsed": false,
    "pycharm": {
     "name": "#%% md\n"
    }
   }
  },
  {
   "cell_type": "code",
   "execution_count": 1,
   "outputs": [],
   "source": [
    "import pandas as pd\n",
    "import numpy as np\n",
    "import matplotlib as plt\n",
    "#import scikit-learn as sci\n",
    "import scanpy as sc\n",
    "import matplotlib.pyplot as plt\n",
    "import anndata as ad"
   ],
   "metadata": {
    "collapsed": false,
    "pycharm": {
     "name": "#%%\n"
    }
   }
  },
  {
   "cell_type": "code",
   "execution_count": 2,
   "outputs": [
    {
     "name": "stdout",
     "output_type": "stream",
     "text": [
      "scanpy==1.8.2 anndata==0.7.8 umap==0.5.2 numpy==1.20.3 scipy==1.7.3 pandas==1.3.5 scikit-learn==1.0.1 statsmodels==0.13.1 python-igraph==0.9.8 louvain==0.7.1 pynndescent==0.5.5\n"
     ]
    }
   ],
   "source": [
    "sc.settings.verbosity = 3\n",
    "sc.logging.print_header()\n",
    "sc.settings.set_figure_params(dpi=80, facecolor='white')"
   ],
   "metadata": {
    "collapsed": false,
    "pycharm": {
     "name": "#%%\n"
    }
   }
  },
  {
   "cell_type": "code",
   "execution_count": 3,
   "outputs": [],
   "source": [
    "results_file = 'write/subsetting_or_and_ti_data_results.h5ad'"
   ],
   "metadata": {
    "collapsed": false,
    "pycharm": {
     "name": "#%%\n"
    }
   }
  },
  {
   "cell_type": "code",
   "execution_count": 4,
   "outputs": [],
   "source": [
    "adata_ti = sc.read_h5ad(\n",
    "   'cache/endometrium_all.h5ad')\n",
    "\n",
    "adata_ti.var_names_make_unique()"
   ],
   "metadata": {
    "collapsed": false,
    "pycharm": {
     "name": "#%%\n"
    }
   }
  },
  {
   "cell_type": "code",
   "execution_count": 5,
   "outputs": [
    {
     "data": {
      "text/plain": "AnnData object with n_obs × n_vars = 100307 × 28614\n    obs: 'SampleID', 'log2p1_count', 'percent_mito', 'n_genes', 'DonorID', 'BiopsyType', 'Location', 'Binary Stage', 'Stage', 'Broad cell type', 'Cell type', 'CellCycle Phase'\n    var: 'gene_ids', 'n_cells'\n    uns: 'Binary Stage_colors', 'BinaryStage_colors', 'BiopsyType_colors', 'Broad cell type_colors', 'Cell type_colors', 'CellCycle Phase_colors', 'Day_colors', 'DonorID_colors', 'Location_colors', 'SampleID_colors', 'cosine_logXformedproj_bulkorg_colors', 'cosine_logXformedproj_bulkorg_hormnoinhib_colors', 'cosine_logXformedproj_bulkorg_hormnoinhib_res2_colors', 'cosine_logXformedproj_bulkorg_hormones_colors', 'cosine_logXformedproj_bulkorg_noinhib_colors', 'cosine_logXformedproj_bulkorg_strhormnoinhib_colors', 'cosine_proj_bulkorg_colors', 'cosine_proj_bulkorg_hormnoinhib_colors', 'cosine_proj_bulkorg_hormnoinhib_res2_colors', 'cosine_proj_bulkorg_hormones_colors', 'cosine_proj_bulkorg_noinhib_colors', 'cosine_proj_bulkorg_strhormnoinhib_colors', 'fine_celltypes_colors', 'general_celltype_colors', 'logist_proj_bulkorg_colors', 'logist_proj_bulkorg_hormnoinhib_colors', 'logist_proj_bulkorg_hormnoinhib_res2_colors', 'logist_proj_bulkorg_hormones_colors', 'logist_proj_bulkorg_noinhib_colors', 'logist_proj_bulkorg_strhormnoinhib_colors', 'sample_names_colors', 'subcluster_epithelial_balanced_broad_colors', 'subcluster_epithelial_balanced_colors', 'subcluster_epithelial_colors', 'subcluster_immune_colors', 'subcluster_stromal_balanced_colors'\n    obsm: 'X_umap_scvi_sampl_cc'"
     },
     "execution_count": 5,
     "metadata": {},
     "output_type": "execute_result"
    }
   ],
   "source": [
    "adata_ti"
   ],
   "metadata": {
    "collapsed": false,
    "pycharm": {
     "name": "#%%\n"
    }
   }
  },
  {
   "cell_type": "code",
   "execution_count": null,
   "outputs": [],
   "source": [
    "adata_or = sc.read_h5ad(\n",
    "   'cache/endometrium_organoid.h5ad')\n",
    "adata_ti.var_names_make_unique()"
   ],
   "metadata": {
    "collapsed": false,
    "pycharm": {
     "name": "#%%\n",
     "is_executing": true
    }
   }
  },
  {
   "cell_type": "code",
   "execution_count": null,
   "outputs": [],
   "source": [
    "adata_or"
   ],
   "metadata": {
    "collapsed": false,
    "pycharm": {
     "name": "#%%\n",
     "is_executing": true
    }
   }
  },
  {
   "cell_type": "markdown",
   "source": [
    "# 2. Subsetting the Data"
   ],
   "metadata": {
    "collapsed": false,
    "pycharm": {
     "name": "#%% md\n"
    }
   }
  },
  {
   "cell_type": "markdown",
   "source": [
    "## 2.1 Tissue Data"
   ],
   "metadata": {
    "collapsed": false,
    "pycharm": {
     "name": "#%% md\n"
    }
   }
  },
  {
   "cell_type": "code",
   "execution_count": null,
   "outputs": [],
   "source": [
    "adata_ti_pro_1 = adata_ti[adata_ti.obs[\"SampleID\"] == \"4861STDY7387181\",:] #pro sample 1\n",
    "adata_ti_pro_2 = adata_ti[adata_ti.obs[\"SampleID\"] == \"4861STDY7387182\",:] #pro sample 2\n",
    "adata_ti_sec_1 = adata_ti[adata_ti.obs[\"SampleID\"] == \"MRC_Endo8625698\",:] #sec sample 1\n",
    "adata_ti_sec_2 = adata_ti[adata_ti.obs[\"SampleID\"] == \"MRC_Endo8625699\",:] #sec sample 2\n",
    "\n",
    "data_list_ti = [adata_ti_pro_1, adata_ti_pro_2, adata_ti_sec_1, adata_ti_sec_2]"
   ],
   "metadata": {
    "collapsed": false,
    "pycharm": {
     "name": "#%%\n",
     "is_executing": true
    }
   }
  },
  {
   "cell_type": "markdown",
   "source": [
    "# 2.2 Organoid Data"
   ],
   "metadata": {
    "collapsed": false,
    "pycharm": {
     "name": "#%% md\n"
    }
   }
  },
  {
   "cell_type": "code",
   "execution_count": null,
   "outputs": [],
   "source": [
    "adata_or_1 = adata_or[adata_or.obs[\"sample_names\"] == \"WSSS_END9397520\",:] #or sample 1\n",
    "adata_or_2 = adata_or[adata_or.obs[\"sample_names\"] == \"WSSS_END9397522\",:] #or sample 2\n",
    "adata_or_3 = adata_or[adata_or.obs[\"sample_names\"] == \"WSSS_END9397528\",:] #or sample 3\n",
    "\n",
    "data_list_or = [adata_or_1, adata_or_2, adata_or_3]"
   ],
   "metadata": {
    "collapsed": false,
    "pycharm": {
     "name": "#%%\n",
     "is_executing": true
    }
   }
  },
  {
   "cell_type": "code",
   "execution_count": null,
   "outputs": [],
   "source": [
    "adata_ti.obs"
   ],
   "metadata": {
    "collapsed": false,
    "pycharm": {
     "name": "#%%\n",
     "is_executing": true
    }
   }
  },
  {
   "cell_type": "code",
   "execution_count": null,
   "outputs": [],
   "source": [],
   "metadata": {
    "collapsed": false,
    "pycharm": {
     "name": "#%%\n",
     "is_executing": true
    }
   }
  }
 ],
 "metadata": {
  "kernelspec": {
   "display_name": "Python 3",
   "language": "python",
   "name": "python3"
  },
  "language_info": {
   "codemirror_mode": {
    "name": "ipython",
    "version": 2
   },
   "file_extension": ".py",
   "mimetype": "text/x-python",
   "name": "python",
   "nbconvert_exporter": "python",
   "pygments_lexer": "ipython2",
   "version": "2.7.6"
  }
 },
 "nbformat": 4,
 "nbformat_minor": 0
}