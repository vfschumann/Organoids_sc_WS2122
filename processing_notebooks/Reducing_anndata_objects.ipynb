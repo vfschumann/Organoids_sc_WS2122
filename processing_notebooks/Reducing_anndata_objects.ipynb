{
 "cells": [
  {
   "cell_type": "code",
   "execution_count": 1,
   "metadata": {
    "collapsed": true
   },
   "outputs": [],
   "source": [
    "import pandas as pd\n",
    "import numpy as np\n",
    "import scanpy as sc\n",
    "import anndata as ad"
   ]
  },
  {
   "cell_type": "code",
   "execution_count": 2,
   "outputs": [
    {
     "name": "stdout",
     "output_type": "stream",
     "text": [
      "scanpy==1.8.2 anndata==0.7.8 umap==0.5.2 numpy==1.20.3 scipy==1.7.2 pandas==1.3.4 scikit-learn==1.0.1 statsmodels==0.13.0 python-igraph==0.9.8 pynndescent==0.5.5\n"
     ]
    }
   ],
   "source": [
    "sc.settings.verbosity = 3            \n",
    "sc.logging.print_header()\n",
    "sc.settings.set_figure_params(dpi=80, facecolor='white')"
   ],
   "metadata": {
    "collapsed": false,
    "pycharm": {
     "name": "#%%\n"
    }
   }
  },
  {
   "cell_type": "code",
   "execution_count": 4,
   "outputs": [],
   "source": [
    "adata_ti = sc.read_h5ad(\n",
    "   '/home/vfs/PycharmProjects/Organoids_sc_WS2122/data/Garcia_Alonso_tissue/endometrium_all.h5ad')  # the directory with the `.mtx` file                # use gene symbols for the variable names (variables-axis )                              # write a cache file for faster subsequent reading\n",
    "adata_ti.var_names_make_unique()"
   ],
   "metadata": {
    "collapsed": false,
    "pycharm": {
     "name": "#%%\n"
    }
   }
  },
  {
   "cell_type": "code",
   "execution_count": 5,
   "outputs": [
    {
     "data": {
      "text/plain": "                                         SampleID  log2p1_count  percent_mito  \\\n4861STDY7387181_AAACCTGAGGCATGGT  4861STDY7387181     13.951467      0.057320   \n4861STDY7387181_AAACCTGAGGGCACTA  4861STDY7387181     13.776227      0.043838   \n4861STDY7387181_AAACCTGAGTGAAGTT  4861STDY7387181     12.894628      0.070791   \n4861STDY7387181_AAACCTGAGTGGGCTA  4861STDY7387181     12.329235      0.071137   \n4861STDY7387181_AAACCTGCACCGAAAG  4861STDY7387181     12.171176      0.063977   \n...                                           ...           ...           ...   \nGSM4577315_TTTGGTTAGGATAATC            GSM4577315     15.003430      0.041133   \nGSM4577315_TTTGGTTCACTACACA            GSM4577315     14.409987      0.025634   \nGSM4577315_TTTGGTTGTCCGACGT            GSM4577315     13.338180      0.079575   \nGSM4577315_TTTGTTGGTTCGGCCA            GSM4577315     13.996120      0.059918   \nGSM4577315_TTTGTTGTCATCTGTT            GSM4577315     12.164278      0.052953   \n\n                                  n_genes       DonorID          BiopsyType  \\\n4861STDY7387181_AAACCTGAGGCATGGT     3842           A13         Organ_Donor   \n4861STDY7387181_AAACCTGAGGGCACTA     3544           A13         Organ_Donor   \n4861STDY7387181_AAACCTGAGTGAAGTT     2507           A13         Organ_Donor   \n4861STDY7387181_AAACCTGAGTGGGCTA     1928           A13         Organ_Donor   \n4861STDY7387181_AAACCTGCACCGAAAG     1824           A13         Organ_Donor   \n...                                   ...           ...                 ...   \nGSM4577315_TTTGGTTAGGATAATC          6244  SAMN15049042  Superficial_Biopsy   \nGSM4577315_TTTGGTTCACTACACA          5045  SAMN15049042  Superficial_Biopsy   \nGSM4577315_TTTGGTTGTCCGACGT          2911  SAMN15049042  Superficial_Biopsy   \nGSM4577315_TTTGTTGGTTCGGCCA          4592  SAMN15049042  Superficial_Biopsy   \nGSM4577315_TTTGTTGTCATCTGTT          1924  SAMN15049042  Superficial_Biopsy   \n\n                                              Location   Binary Stage  \\\n4861STDY7387181_AAACCTGAGGCATGGT  endometrium_enriched  Proliferative   \n4861STDY7387181_AAACCTGAGGGCACTA  endometrium_enriched  Proliferative   \n4861STDY7387181_AAACCTGAGTGAAGTT  endometrium_enriched  Proliferative   \n4861STDY7387181_AAACCTGAGTGGGCTA  endometrium_enriched  Proliferative   \n4861STDY7387181_AAACCTGCACCGAAAG  endometrium_enriched  Proliferative   \n...                                                ...            ...   \nGSM4577315_TTTGGTTAGGATAATC         endometrium_biopsy  Proliferative   \nGSM4577315_TTTGGTTCACTACACA         endometrium_biopsy  Proliferative   \nGSM4577315_TTTGGTTGTCCGACGT         endometrium_biopsy  Proliferative   \nGSM4577315_TTTGTTGGTTCGGCCA         endometrium_biopsy  Proliferative   \nGSM4577315_TTTGTTGTCATCTGTT         endometrium_biopsy  Proliferative   \n\n                                          Stage Broad cell type  Cell type  \\\n4861STDY7387181_AAACCTGAGGCATGGT  proliferative         Stromal         eS   \n4861STDY7387181_AAACCTGAGGGCACTA  proliferative         Stromal         eS   \n4861STDY7387181_AAACCTGAGTGAAGTT  proliferative      Supporting  PV STEAP4   \n4861STDY7387181_AAACCTGAGTGGGCTA  proliferative         Stromal         dS   \n4861STDY7387181_AAACCTGCACCGAAAG  proliferative         Stromal         eS   \n...                                         ...             ...        ...   \nGSM4577315_TTTGGTTAGGATAATC       proliferative      Epithelial       SOX9   \nGSM4577315_TTTGGTTCACTACACA       proliferative      Epithelial       SOX9   \nGSM4577315_TTTGGTTGTCCGACGT       proliferative      Epithelial       SOX9   \nGSM4577315_TTTGTTGGTTCGGCCA       proliferative      Epithelial       SOX9   \nGSM4577315_TTTGTTGTCATCTGTT       proliferative          Immune   Lymphoid   \n\n                                 CellCycle Phase  \n4861STDY7387181_AAACCTGAGGCATGGT               S  \n4861STDY7387181_AAACCTGAGGGCACTA              G1  \n4861STDY7387181_AAACCTGAGTGAAGTT              G1  \n4861STDY7387181_AAACCTGAGTGGGCTA              G1  \n4861STDY7387181_AAACCTGCACCGAAAG              G1  \n...                                          ...  \nGSM4577315_TTTGGTTAGGATAATC                  G2M  \nGSM4577315_TTTGGTTCACTACACA                   G1  \nGSM4577315_TTTGGTTGTCCGACGT                   G1  \nGSM4577315_TTTGTTGGTTCGGCCA                  G2M  \nGSM4577315_TTTGTTGTCATCTGTT                   G1  \n\n[100307 rows x 12 columns]",
      "text/html": "<div>\n<style scoped>\n    .dataframe tbody tr th:only-of-type {\n        vertical-align: middle;\n    }\n\n    .dataframe tbody tr th {\n        vertical-align: top;\n    }\n\n    .dataframe thead th {\n        text-align: right;\n    }\n</style>\n<table border=\"1\" class=\"dataframe\">\n  <thead>\n    <tr style=\"text-align: right;\">\n      <th></th>\n      <th>SampleID</th>\n      <th>log2p1_count</th>\n      <th>percent_mito</th>\n      <th>n_genes</th>\n      <th>DonorID</th>\n      <th>BiopsyType</th>\n      <th>Location</th>\n      <th>Binary Stage</th>\n      <th>Stage</th>\n      <th>Broad cell type</th>\n      <th>Cell type</th>\n      <th>CellCycle Phase</th>\n    </tr>\n  </thead>\n  <tbody>\n    <tr>\n      <th>4861STDY7387181_AAACCTGAGGCATGGT</th>\n      <td>4861STDY7387181</td>\n      <td>13.951467</td>\n      <td>0.057320</td>\n      <td>3842</td>\n      <td>A13</td>\n      <td>Organ_Donor</td>\n      <td>endometrium_enriched</td>\n      <td>Proliferative</td>\n      <td>proliferative</td>\n      <td>Stromal</td>\n      <td>eS</td>\n      <td>S</td>\n    </tr>\n    <tr>\n      <th>4861STDY7387181_AAACCTGAGGGCACTA</th>\n      <td>4861STDY7387181</td>\n      <td>13.776227</td>\n      <td>0.043838</td>\n      <td>3544</td>\n      <td>A13</td>\n      <td>Organ_Donor</td>\n      <td>endometrium_enriched</td>\n      <td>Proliferative</td>\n      <td>proliferative</td>\n      <td>Stromal</td>\n      <td>eS</td>\n      <td>G1</td>\n    </tr>\n    <tr>\n      <th>4861STDY7387181_AAACCTGAGTGAAGTT</th>\n      <td>4861STDY7387181</td>\n      <td>12.894628</td>\n      <td>0.070791</td>\n      <td>2507</td>\n      <td>A13</td>\n      <td>Organ_Donor</td>\n      <td>endometrium_enriched</td>\n      <td>Proliferative</td>\n      <td>proliferative</td>\n      <td>Supporting</td>\n      <td>PV STEAP4</td>\n      <td>G1</td>\n    </tr>\n    <tr>\n      <th>4861STDY7387181_AAACCTGAGTGGGCTA</th>\n      <td>4861STDY7387181</td>\n      <td>12.329235</td>\n      <td>0.071137</td>\n      <td>1928</td>\n      <td>A13</td>\n      <td>Organ_Donor</td>\n      <td>endometrium_enriched</td>\n      <td>Proliferative</td>\n      <td>proliferative</td>\n      <td>Stromal</td>\n      <td>dS</td>\n      <td>G1</td>\n    </tr>\n    <tr>\n      <th>4861STDY7387181_AAACCTGCACCGAAAG</th>\n      <td>4861STDY7387181</td>\n      <td>12.171176</td>\n      <td>0.063977</td>\n      <td>1824</td>\n      <td>A13</td>\n      <td>Organ_Donor</td>\n      <td>endometrium_enriched</td>\n      <td>Proliferative</td>\n      <td>proliferative</td>\n      <td>Stromal</td>\n      <td>eS</td>\n      <td>G1</td>\n    </tr>\n    <tr>\n      <th>...</th>\n      <td>...</td>\n      <td>...</td>\n      <td>...</td>\n      <td>...</td>\n      <td>...</td>\n      <td>...</td>\n      <td>...</td>\n      <td>...</td>\n      <td>...</td>\n      <td>...</td>\n      <td>...</td>\n      <td>...</td>\n    </tr>\n    <tr>\n      <th>GSM4577315_TTTGGTTAGGATAATC</th>\n      <td>GSM4577315</td>\n      <td>15.003430</td>\n      <td>0.041133</td>\n      <td>6244</td>\n      <td>SAMN15049042</td>\n      <td>Superficial_Biopsy</td>\n      <td>endometrium_biopsy</td>\n      <td>Proliferative</td>\n      <td>proliferative</td>\n      <td>Epithelial</td>\n      <td>SOX9</td>\n      <td>G2M</td>\n    </tr>\n    <tr>\n      <th>GSM4577315_TTTGGTTCACTACACA</th>\n      <td>GSM4577315</td>\n      <td>14.409987</td>\n      <td>0.025634</td>\n      <td>5045</td>\n      <td>SAMN15049042</td>\n      <td>Superficial_Biopsy</td>\n      <td>endometrium_biopsy</td>\n      <td>Proliferative</td>\n      <td>proliferative</td>\n      <td>Epithelial</td>\n      <td>SOX9</td>\n      <td>G1</td>\n    </tr>\n    <tr>\n      <th>GSM4577315_TTTGGTTGTCCGACGT</th>\n      <td>GSM4577315</td>\n      <td>13.338180</td>\n      <td>0.079575</td>\n      <td>2911</td>\n      <td>SAMN15049042</td>\n      <td>Superficial_Biopsy</td>\n      <td>endometrium_biopsy</td>\n      <td>Proliferative</td>\n      <td>proliferative</td>\n      <td>Epithelial</td>\n      <td>SOX9</td>\n      <td>G1</td>\n    </tr>\n    <tr>\n      <th>GSM4577315_TTTGTTGGTTCGGCCA</th>\n      <td>GSM4577315</td>\n      <td>13.996120</td>\n      <td>0.059918</td>\n      <td>4592</td>\n      <td>SAMN15049042</td>\n      <td>Superficial_Biopsy</td>\n      <td>endometrium_biopsy</td>\n      <td>Proliferative</td>\n      <td>proliferative</td>\n      <td>Epithelial</td>\n      <td>SOX9</td>\n      <td>G2M</td>\n    </tr>\n    <tr>\n      <th>GSM4577315_TTTGTTGTCATCTGTT</th>\n      <td>GSM4577315</td>\n      <td>12.164278</td>\n      <td>0.052953</td>\n      <td>1924</td>\n      <td>SAMN15049042</td>\n      <td>Superficial_Biopsy</td>\n      <td>endometrium_biopsy</td>\n      <td>Proliferative</td>\n      <td>proliferative</td>\n      <td>Immune</td>\n      <td>Lymphoid</td>\n      <td>G1</td>\n    </tr>\n  </tbody>\n</table>\n<p>100307 rows × 12 columns</p>\n</div>"
     },
     "execution_count": 5,
     "metadata": {},
     "output_type": "execute_result"
    }
   ],
   "source": [
    "adata_ti.obs"
   ],
   "metadata": {
    "collapsed": false,
    "pycharm": {
     "name": "#%%\n"
    }
   }
  },
  {
   "cell_type": "code",
   "execution_count": 6,
   "outputs": [
    {
     "ename": "ValueError",
     "evalue": "('Lengths must match to compare', (100307,), (4,))",
     "output_type": "error",
     "traceback": [
      "\u001B[0;31m---------------------------------------------------------------------------\u001B[0m",
      "\u001B[0;31mValueError\u001B[0m                                Traceback (most recent call last)",
      "\u001B[0;32m/tmp/ipykernel_11207/33500853.py\u001B[0m in \u001B[0;36m<module>\u001B[0;34m\u001B[0m\n\u001B[0;32m----> 1\u001B[0;31m \u001B[0madata_ti_used\u001B[0m \u001B[0;34m=\u001B[0m \u001B[0madata_ti\u001B[0m\u001B[0;34m[\u001B[0m\u001B[0madata_ti\u001B[0m\u001B[0;34m.\u001B[0m\u001B[0mobs\u001B[0m\u001B[0;34m[\u001B[0m\u001B[0;34m\"SampleID\"\u001B[0m\u001B[0;34m]\u001B[0m \u001B[0;34m==\u001B[0m \u001B[0;34m[\u001B[0m\u001B[0;34m\"4861STDY7387181\"\u001B[0m\u001B[0;34m,\u001B[0m\u001B[0;34m\"4861STDY7387182\"\u001B[0m\u001B[0;34m,\u001B[0m \u001B[0;34m\"MRC_Endo8625698\"\u001B[0m\u001B[0;34m,\u001B[0m \u001B[0;34m\"MRC_Endo8625699\"\u001B[0m\u001B[0;34m]\u001B[0m\u001B[0;34m,\u001B[0m\u001B[0;34m:\u001B[0m\u001B[0;34m]\u001B[0m\u001B[0;34m\u001B[0m\u001B[0;34m\u001B[0m\u001B[0m\n\u001B[0m",
      "\u001B[0;32m~/PycharmProjects/Organoids_sc_WS2122/scanpy/lib/python3.8/site-packages/pandas/core/ops/common.py\u001B[0m in \u001B[0;36mnew_method\u001B[0;34m(self, other)\u001B[0m\n\u001B[1;32m     67\u001B[0m         \u001B[0mother\u001B[0m \u001B[0;34m=\u001B[0m \u001B[0mitem_from_zerodim\u001B[0m\u001B[0;34m(\u001B[0m\u001B[0mother\u001B[0m\u001B[0;34m)\u001B[0m\u001B[0;34m\u001B[0m\u001B[0;34m\u001B[0m\u001B[0m\n\u001B[1;32m     68\u001B[0m \u001B[0;34m\u001B[0m\u001B[0m\n\u001B[0;32m---> 69\u001B[0;31m         \u001B[0;32mreturn\u001B[0m \u001B[0mmethod\u001B[0m\u001B[0;34m(\u001B[0m\u001B[0mself\u001B[0m\u001B[0;34m,\u001B[0m \u001B[0mother\u001B[0m\u001B[0;34m)\u001B[0m\u001B[0;34m\u001B[0m\u001B[0;34m\u001B[0m\u001B[0m\n\u001B[0m\u001B[1;32m     70\u001B[0m \u001B[0;34m\u001B[0m\u001B[0m\n\u001B[1;32m     71\u001B[0m     \u001B[0;32mreturn\u001B[0m \u001B[0mnew_method\u001B[0m\u001B[0;34m\u001B[0m\u001B[0;34m\u001B[0m\u001B[0m\n",
      "\u001B[0;32m~/PycharmProjects/Organoids_sc_WS2122/scanpy/lib/python3.8/site-packages/pandas/core/arraylike.py\u001B[0m in \u001B[0;36m__eq__\u001B[0;34m(self, other)\u001B[0m\n\u001B[1;32m     30\u001B[0m     \u001B[0;34m@\u001B[0m\u001B[0munpack_zerodim_and_defer\u001B[0m\u001B[0;34m(\u001B[0m\u001B[0;34m\"__eq__\"\u001B[0m\u001B[0;34m)\u001B[0m\u001B[0;34m\u001B[0m\u001B[0;34m\u001B[0m\u001B[0m\n\u001B[1;32m     31\u001B[0m     \u001B[0;32mdef\u001B[0m \u001B[0m__eq__\u001B[0m\u001B[0;34m(\u001B[0m\u001B[0mself\u001B[0m\u001B[0;34m,\u001B[0m \u001B[0mother\u001B[0m\u001B[0;34m)\u001B[0m\u001B[0;34m:\u001B[0m\u001B[0;34m\u001B[0m\u001B[0;34m\u001B[0m\u001B[0m\n\u001B[0;32m---> 32\u001B[0;31m         \u001B[0;32mreturn\u001B[0m \u001B[0mself\u001B[0m\u001B[0;34m.\u001B[0m\u001B[0m_cmp_method\u001B[0m\u001B[0;34m(\u001B[0m\u001B[0mother\u001B[0m\u001B[0;34m,\u001B[0m \u001B[0moperator\u001B[0m\u001B[0;34m.\u001B[0m\u001B[0meq\u001B[0m\u001B[0;34m)\u001B[0m\u001B[0;34m\u001B[0m\u001B[0;34m\u001B[0m\u001B[0m\n\u001B[0m\u001B[1;32m     33\u001B[0m \u001B[0;34m\u001B[0m\u001B[0m\n\u001B[1;32m     34\u001B[0m     \u001B[0;34m@\u001B[0m\u001B[0munpack_zerodim_and_defer\u001B[0m\u001B[0;34m(\u001B[0m\u001B[0;34m\"__ne__\"\u001B[0m\u001B[0;34m)\u001B[0m\u001B[0;34m\u001B[0m\u001B[0;34m\u001B[0m\u001B[0m\n",
      "\u001B[0;32m~/PycharmProjects/Organoids_sc_WS2122/scanpy/lib/python3.8/site-packages/pandas/core/series.py\u001B[0m in \u001B[0;36m_cmp_method\u001B[0;34m(self, other, op)\u001B[0m\n\u001B[1;32m   5500\u001B[0m \u001B[0;34m\u001B[0m\u001B[0m\n\u001B[1;32m   5501\u001B[0m         \u001B[0;32mwith\u001B[0m \u001B[0mnp\u001B[0m\u001B[0;34m.\u001B[0m\u001B[0merrstate\u001B[0m\u001B[0;34m(\u001B[0m\u001B[0mall\u001B[0m\u001B[0;34m=\u001B[0m\u001B[0;34m\"ignore\"\u001B[0m\u001B[0;34m)\u001B[0m\u001B[0;34m:\u001B[0m\u001B[0;34m\u001B[0m\u001B[0;34m\u001B[0m\u001B[0m\n\u001B[0;32m-> 5502\u001B[0;31m             \u001B[0mres_values\u001B[0m \u001B[0;34m=\u001B[0m \u001B[0mops\u001B[0m\u001B[0;34m.\u001B[0m\u001B[0mcomparison_op\u001B[0m\u001B[0;34m(\u001B[0m\u001B[0mlvalues\u001B[0m\u001B[0;34m,\u001B[0m \u001B[0mrvalues\u001B[0m\u001B[0;34m,\u001B[0m \u001B[0mop\u001B[0m\u001B[0;34m)\u001B[0m\u001B[0;34m\u001B[0m\u001B[0;34m\u001B[0m\u001B[0m\n\u001B[0m\u001B[1;32m   5503\u001B[0m \u001B[0;34m\u001B[0m\u001B[0m\n\u001B[1;32m   5504\u001B[0m         \u001B[0;32mreturn\u001B[0m \u001B[0mself\u001B[0m\u001B[0;34m.\u001B[0m\u001B[0m_construct_result\u001B[0m\u001B[0;34m(\u001B[0m\u001B[0mres_values\u001B[0m\u001B[0;34m,\u001B[0m \u001B[0mname\u001B[0m\u001B[0;34m=\u001B[0m\u001B[0mres_name\u001B[0m\u001B[0;34m)\u001B[0m\u001B[0;34m\u001B[0m\u001B[0;34m\u001B[0m\u001B[0m\n",
      "\u001B[0;32m~/PycharmProjects/Organoids_sc_WS2122/scanpy/lib/python3.8/site-packages/pandas/core/ops/array_ops.py\u001B[0m in \u001B[0;36mcomparison_op\u001B[0;34m(left, right, op)\u001B[0m\n\u001B[1;32m    259\u001B[0m         \u001B[0;31m#  The ambiguous case is object-dtype.  See GH#27803\u001B[0m\u001B[0;34m\u001B[0m\u001B[0;34m\u001B[0m\u001B[0;34m\u001B[0m\u001B[0m\n\u001B[1;32m    260\u001B[0m         \u001B[0;32mif\u001B[0m \u001B[0mlen\u001B[0m\u001B[0;34m(\u001B[0m\u001B[0mlvalues\u001B[0m\u001B[0;34m)\u001B[0m \u001B[0;34m!=\u001B[0m \u001B[0mlen\u001B[0m\u001B[0;34m(\u001B[0m\u001B[0mrvalues\u001B[0m\u001B[0;34m)\u001B[0m\u001B[0;34m:\u001B[0m\u001B[0;34m\u001B[0m\u001B[0;34m\u001B[0m\u001B[0m\n\u001B[0;32m--> 261\u001B[0;31m             raise ValueError(\n\u001B[0m\u001B[1;32m    262\u001B[0m                 \u001B[0;34m\"Lengths must match to compare\"\u001B[0m\u001B[0;34m,\u001B[0m \u001B[0mlvalues\u001B[0m\u001B[0;34m.\u001B[0m\u001B[0mshape\u001B[0m\u001B[0;34m,\u001B[0m \u001B[0mrvalues\u001B[0m\u001B[0;34m.\u001B[0m\u001B[0mshape\u001B[0m\u001B[0;34m\u001B[0m\u001B[0;34m\u001B[0m\u001B[0m\n\u001B[1;32m    263\u001B[0m             )\n",
      "\u001B[0;31mValueError\u001B[0m: ('Lengths must match to compare', (100307,), (4,))"
     ]
    }
   ],
   "source": [
    "adata_ti_used = adata_ti[adata_ti.obs[\"SampleID\"] == [\"4861STDY7387181\",\"4861STDY7387182\", \"MRC_Endo8625698\", \"MRC_Endo8625699\"],:]"
   ],
   "metadata": {
    "collapsed": false,
    "pycharm": {
     "name": "#%%\n"
    }
   }
  },
  {
   "cell_type": "code",
   "execution_count": 19,
   "outputs": [
    {
     "data": {
      "text/plain": "                                         SampleID  log2p1_count  percent_mito  \\\n4861STDY7387181_AAACCTGAGGCATGGT  4861STDY7387181     13.951467      0.057320   \n4861STDY7387181_AAACCTGAGGGCACTA  4861STDY7387181     13.776227      0.043838   \n4861STDY7387181_AAACCTGAGTGAAGTT  4861STDY7387181     12.894628      0.070791   \n4861STDY7387181_AAACCTGAGTGGGCTA  4861STDY7387181     12.329235      0.071137   \n4861STDY7387181_AAACCTGCACCGAAAG  4861STDY7387181     12.171176      0.063977   \n...                                           ...           ...           ...   \nMRC_Endo8625699_TTTGGAGGTAACGATA  MRC_Endo8625699     12.696532      0.005876   \nMRC_Endo8625699_TTTGGTTAGATACCAA  MRC_Endo8625699     13.761448      0.092179   \nMRC_Endo8625699_TTTGGTTAGCATATGA  MRC_Endo8625699     14.286557      0.074063   \nMRC_Endo8625699_TTTGGTTAGTATGGAT  MRC_Endo8625699     13.192447      0.133440   \nMRC_Endo8625699_TTTGTTGCACACCGAC  MRC_Endo8625699     13.750288      0.088758   \n\n                                  n_genes DonorID          BiopsyType  \\\n4861STDY7387181_AAACCTGAGGCATGGT     3842     A13         Organ_Donor   \n4861STDY7387181_AAACCTGAGGGCACTA     3544     A13         Organ_Donor   \n4861STDY7387181_AAACCTGAGTGAAGTT     2507     A13         Organ_Donor   \n4861STDY7387181_AAACCTGAGTGGGCTA     1928     A13         Organ_Donor   \n4861STDY7387181_AAACCTGCACCGAAAG     1824     A13         Organ_Donor   \n...                                   ...     ...                 ...   \nMRC_Endo8625699_TTTGGAGGTAACGATA     1784      E1  Superficial_Biopsy   \nMRC_Endo8625699_TTTGGTTAGATACCAA     3166      E1  Superficial_Biopsy   \nMRC_Endo8625699_TTTGGTTAGCATATGA     4024      E1  Superficial_Biopsy   \nMRC_Endo8625699_TTTGGTTAGTATGGAT     2809      E1  Superficial_Biopsy   \nMRC_Endo8625699_TTTGTTGCACACCGAC     3352      E1  Superficial_Biopsy   \n\n                                              Location   Binary Stage  \\\n4861STDY7387181_AAACCTGAGGCATGGT  endometrium_enriched  Proliferative   \n4861STDY7387181_AAACCTGAGGGCACTA  endometrium_enriched  Proliferative   \n4861STDY7387181_AAACCTGAGTGAAGTT  endometrium_enriched  Proliferative   \n4861STDY7387181_AAACCTGAGTGGGCTA  endometrium_enriched  Proliferative   \n4861STDY7387181_AAACCTGCACCGAAAG  endometrium_enriched  Proliferative   \n...                                                ...            ...   \nMRC_Endo8625699_TTTGGAGGTAACGATA    endometrium_biopsy      Secretory   \nMRC_Endo8625699_TTTGGTTAGATACCAA    endometrium_biopsy      Secretory   \nMRC_Endo8625699_TTTGGTTAGCATATGA    endometrium_biopsy      Secretory   \nMRC_Endo8625699_TTTGGTTAGTATGGAT    endometrium_biopsy      Secretory   \nMRC_Endo8625699_TTTGTTGCACACCGAC    endometrium_biopsy      Secretory   \n\n                                           Stage Broad cell type  Cell type  \\\n4861STDY7387181_AAACCTGAGGCATGGT   proliferative         Stromal         eS   \n4861STDY7387181_AAACCTGAGGGCACTA   proliferative         Stromal         eS   \n4861STDY7387181_AAACCTGAGTGAAGTT   proliferative      Supporting  PV STEAP4   \n4861STDY7387181_AAACCTGAGTGGGCTA   proliferative         Stromal         dS   \n4861STDY7387181_AAACCTGCACCGAAAG   proliferative         Stromal         eS   \n...                                          ...             ...        ...   \nMRC_Endo8625699_TTTGGAGGTAACGATA  late-secretory        Excluded      Other   \nMRC_Endo8625699_TTTGGTTAGATACCAA  late-secretory         Stromal         dS   \nMRC_Endo8625699_TTTGGTTAGCATATGA  late-secretory         Stromal         dS   \nMRC_Endo8625699_TTTGGTTAGTATGGAT  late-secretory         Stromal         eS   \nMRC_Endo8625699_TTTGTTGCACACCGAC  late-secretory      Supporting       uSMC   \n\n                                 CellCycle Phase  \n4861STDY7387181_AAACCTGAGGCATGGT               S  \n4861STDY7387181_AAACCTGAGGGCACTA              G1  \n4861STDY7387181_AAACCTGAGTGAAGTT              G1  \n4861STDY7387181_AAACCTGAGTGGGCTA              G1  \n4861STDY7387181_AAACCTGCACCGAAAG              G1  \n...                                          ...  \nMRC_Endo8625699_TTTGGAGGTAACGATA              G1  \nMRC_Endo8625699_TTTGGTTAGATACCAA              G1  \nMRC_Endo8625699_TTTGGTTAGCATATGA              G1  \nMRC_Endo8625699_TTTGGTTAGTATGGAT              G1  \nMRC_Endo8625699_TTTGTTGCACACCGAC              G1  \n\n[18757 rows x 12 columns]",
      "text/html": "<div>\n<style scoped>\n    .dataframe tbody tr th:only-of-type {\n        vertical-align: middle;\n    }\n\n    .dataframe tbody tr th {\n        vertical-align: top;\n    }\n\n    .dataframe thead th {\n        text-align: right;\n    }\n</style>\n<table border=\"1\" class=\"dataframe\">\n  <thead>\n    <tr style=\"text-align: right;\">\n      <th></th>\n      <th>SampleID</th>\n      <th>log2p1_count</th>\n      <th>percent_mito</th>\n      <th>n_genes</th>\n      <th>DonorID</th>\n      <th>BiopsyType</th>\n      <th>Location</th>\n      <th>Binary Stage</th>\n      <th>Stage</th>\n      <th>Broad cell type</th>\n      <th>Cell type</th>\n      <th>CellCycle Phase</th>\n    </tr>\n  </thead>\n  <tbody>\n    <tr>\n      <th>4861STDY7387181_AAACCTGAGGCATGGT</th>\n      <td>4861STDY7387181</td>\n      <td>13.951467</td>\n      <td>0.057320</td>\n      <td>3842</td>\n      <td>A13</td>\n      <td>Organ_Donor</td>\n      <td>endometrium_enriched</td>\n      <td>Proliferative</td>\n      <td>proliferative</td>\n      <td>Stromal</td>\n      <td>eS</td>\n      <td>S</td>\n    </tr>\n    <tr>\n      <th>4861STDY7387181_AAACCTGAGGGCACTA</th>\n      <td>4861STDY7387181</td>\n      <td>13.776227</td>\n      <td>0.043838</td>\n      <td>3544</td>\n      <td>A13</td>\n      <td>Organ_Donor</td>\n      <td>endometrium_enriched</td>\n      <td>Proliferative</td>\n      <td>proliferative</td>\n      <td>Stromal</td>\n      <td>eS</td>\n      <td>G1</td>\n    </tr>\n    <tr>\n      <th>4861STDY7387181_AAACCTGAGTGAAGTT</th>\n      <td>4861STDY7387181</td>\n      <td>12.894628</td>\n      <td>0.070791</td>\n      <td>2507</td>\n      <td>A13</td>\n      <td>Organ_Donor</td>\n      <td>endometrium_enriched</td>\n      <td>Proliferative</td>\n      <td>proliferative</td>\n      <td>Supporting</td>\n      <td>PV STEAP4</td>\n      <td>G1</td>\n    </tr>\n    <tr>\n      <th>4861STDY7387181_AAACCTGAGTGGGCTA</th>\n      <td>4861STDY7387181</td>\n      <td>12.329235</td>\n      <td>0.071137</td>\n      <td>1928</td>\n      <td>A13</td>\n      <td>Organ_Donor</td>\n      <td>endometrium_enriched</td>\n      <td>Proliferative</td>\n      <td>proliferative</td>\n      <td>Stromal</td>\n      <td>dS</td>\n      <td>G1</td>\n    </tr>\n    <tr>\n      <th>4861STDY7387181_AAACCTGCACCGAAAG</th>\n      <td>4861STDY7387181</td>\n      <td>12.171176</td>\n      <td>0.063977</td>\n      <td>1824</td>\n      <td>A13</td>\n      <td>Organ_Donor</td>\n      <td>endometrium_enriched</td>\n      <td>Proliferative</td>\n      <td>proliferative</td>\n      <td>Stromal</td>\n      <td>eS</td>\n      <td>G1</td>\n    </tr>\n    <tr>\n      <th>...</th>\n      <td>...</td>\n      <td>...</td>\n      <td>...</td>\n      <td>...</td>\n      <td>...</td>\n      <td>...</td>\n      <td>...</td>\n      <td>...</td>\n      <td>...</td>\n      <td>...</td>\n      <td>...</td>\n      <td>...</td>\n    </tr>\n    <tr>\n      <th>MRC_Endo8625699_TTTGGAGGTAACGATA</th>\n      <td>MRC_Endo8625699</td>\n      <td>12.696532</td>\n      <td>0.005876</td>\n      <td>1784</td>\n      <td>E1</td>\n      <td>Superficial_Biopsy</td>\n      <td>endometrium_biopsy</td>\n      <td>Secretory</td>\n      <td>late-secretory</td>\n      <td>Excluded</td>\n      <td>Other</td>\n      <td>G1</td>\n    </tr>\n    <tr>\n      <th>MRC_Endo8625699_TTTGGTTAGATACCAA</th>\n      <td>MRC_Endo8625699</td>\n      <td>13.761448</td>\n      <td>0.092179</td>\n      <td>3166</td>\n      <td>E1</td>\n      <td>Superficial_Biopsy</td>\n      <td>endometrium_biopsy</td>\n      <td>Secretory</td>\n      <td>late-secretory</td>\n      <td>Stromal</td>\n      <td>dS</td>\n      <td>G1</td>\n    </tr>\n    <tr>\n      <th>MRC_Endo8625699_TTTGGTTAGCATATGA</th>\n      <td>MRC_Endo8625699</td>\n      <td>14.286557</td>\n      <td>0.074063</td>\n      <td>4024</td>\n      <td>E1</td>\n      <td>Superficial_Biopsy</td>\n      <td>endometrium_biopsy</td>\n      <td>Secretory</td>\n      <td>late-secretory</td>\n      <td>Stromal</td>\n      <td>dS</td>\n      <td>G1</td>\n    </tr>\n    <tr>\n      <th>MRC_Endo8625699_TTTGGTTAGTATGGAT</th>\n      <td>MRC_Endo8625699</td>\n      <td>13.192447</td>\n      <td>0.133440</td>\n      <td>2809</td>\n      <td>E1</td>\n      <td>Superficial_Biopsy</td>\n      <td>endometrium_biopsy</td>\n      <td>Secretory</td>\n      <td>late-secretory</td>\n      <td>Stromal</td>\n      <td>eS</td>\n      <td>G1</td>\n    </tr>\n    <tr>\n      <th>MRC_Endo8625699_TTTGTTGCACACCGAC</th>\n      <td>MRC_Endo8625699</td>\n      <td>13.750288</td>\n      <td>0.088758</td>\n      <td>3352</td>\n      <td>E1</td>\n      <td>Superficial_Biopsy</td>\n      <td>endometrium_biopsy</td>\n      <td>Secretory</td>\n      <td>late-secretory</td>\n      <td>Supporting</td>\n      <td>uSMC</td>\n      <td>G1</td>\n    </tr>\n  </tbody>\n</table>\n<p>18757 rows × 12 columns</p>\n</div>"
     },
     "execution_count": 19,
     "metadata": {},
     "output_type": "execute_result"
    }
   ],
   "source": [
    "# subsampleing for autopsy samples from proliferating and secretory phase\n",
    "\n",
    "adata_ti_used = adata_ti[adata_ti.obs[\"SampleID\"].isin([\"4861STDY7387181\", # prolif 1\n",
    "                                                        \"4861STDY7387182\", # prolif 2\n",
    "                                                        \"MRC_Endo8625698\", # secre 1\n",
    "                                                        \"MRC_Endo8625699\" # secre 2\n",
    "                                                        ]),:]\n",
    "adata_ti_used.obs"
   ],
   "metadata": {
    "collapsed": false,
    "pycharm": {
     "name": "#%%\n"
    }
   }
  },
  {
   "cell_type": "code",
   "execution_count": 20,
   "outputs": [],
   "source": [
    "# writing new AnnData Object\n",
    "subsampled_tissue = \"/home/vfs/PycharmProjects/Organoids_sc_WS2122/data/Garcia_Alonso_tissue/GarciaAlsonso_tissue_subsampled.h5ad\""
   ],
   "metadata": {
    "collapsed": false,
    "pycharm": {
     "name": "#%%\n"
    }
   }
  },
  {
   "cell_type": "code",
   "execution_count": 21,
   "outputs": [],
   "source": [
    "adata_ti_used.write(subsampled_tissue)"
   ],
   "metadata": {
    "collapsed": false,
    "pycharm": {
     "name": "#%%\n"
    }
   }
  },
  {
   "cell_type": "markdown",
   "source": [
    "# Subsampling organoid "
   ],
   "metadata": {
    "collapsed": false,
    "pycharm": {
     "name": "#%% md\n"
    }
   }
  },
  {
   "cell_type": "code",
   "execution_count": 3,
   "outputs": [],
   "source": [
    "adata_or = sc.read_h5ad(\n",
    "   '/home/vfs/PycharmProjects/Organoids_sc_WS2122/data/Garcia_Alsonso_organoid/endometrium_organoid.h5ad')  # the directory with the `.mtx` file                # use gene symbols for the variable names (variables-axis )                              # write a cache file for faster subsequent reading\n",
    "adata_or.var_names_make_unique()"
   ],
   "metadata": {
    "collapsed": false,
    "pycharm": {
     "name": "#%%\n"
    }
   }
  },
  {
   "cell_type": "code",
   "execution_count": 4,
   "outputs": [
    {
     "data": {
      "text/plain": "                                 demultiplexed     sample_names  log2p1_count  \\\nWSSS_END9397520_AAACCCAAGTAGGAAG            U2  WSSS_END9397520     13.902563   \nWSSS_END9397520_AAACCCACACAAGCTT            U2  WSSS_END9397520     13.438143   \nWSSS_END9397520_AAACCCACACATGTTG            U1  WSSS_END9397520     13.585785   \nWSSS_END9397520_AAACCCACACTCAAGT            U1  WSSS_END9397520     12.751125   \nWSSS_END9397520_AAACCCAGTCGCACAC            U1  WSSS_END9397520     13.382354   \n...                                        ...              ...           ...   \nWSSS_END9397535_TTTGGTTGTACTGGGA           B44  WSSS_END9397535     12.940681   \nWSSS_END9397535_TTTGGTTTCATACGGT           B44  WSSS_END9397535     13.084974   \nWSSS_END9397535_TTTGTTGCAATTTCGG            U1  WSSS_END9397535     12.537461   \nWSSS_END9397535_TTTGTTGGTTGACGGA           B44  WSSS_END9397535     12.570567   \nWSSS_END9397535_TTTGTTGTCTACTCAT            U1  WSSS_END9397535     12.335669   \n\n                                  percent_mito  n_genes Days Hormones  \\\nWSSS_END9397520_AAACCCAAGTAGGAAG      0.131979     3837    0     Ctrl   \nWSSS_END9397520_AAACCCACACAAGCTT      0.086592     3261    0     Ctrl   \nWSSS_END9397520_AAACCCACACATGTTG      0.124614     3421    0     Ctrl   \nWSSS_END9397520_AAACCCACACTCAAGT      0.095314     2488    0     Ctrl   \nWSSS_END9397520_AAACCCAGTCGCACAC      0.127189     3137    0     Ctrl   \n...                                        ...      ...  ...      ...   \nWSSS_END9397535_TTTGGTTGTACTGGGA      0.159903     2409    6      E+P   \nWSSS_END9397535_TTTGGTTTCATACGGT      0.113375     2540    6      E+P   \nWSSS_END9397535_TTTGTTGCAATTTCGG      0.125841     2156    6      E+P   \nWSSS_END9397535_TTTGTTGGTTGACGGA      0.147649     2097    6      E+P   \nWSSS_END9397535_TTTGTTGTCTACTCAT      0.105070     1839    6      E+P   \n\n                                 Inhibitor  IsClonal  \\\nWSSS_END9397520_AAACCCAAGTAGGAAG      Ctrl     False   \nWSSS_END9397520_AAACCCACACAAGCTT      Ctrl     False   \nWSSS_END9397520_AAACCCACACATGTTG      Ctrl     False   \nWSSS_END9397520_AAACCCACACTCAAGT      Ctrl     False   \nWSSS_END9397520_AAACCCAGTCGCACAC      Ctrl     False   \n...                                    ...       ...   \nWSSS_END9397535_TTTGGTTGTACTGGGA   WNT-XAV     False   \nWSSS_END9397535_TTTGGTTTCATACGGT   WNT-XAV     False   \nWSSS_END9397535_TTTGTTGCAATTTCGG   WNT-XAV     False   \nWSSS_END9397535_TTTGTTGGTTGACGGA   WNT-XAV     False   \nWSSS_END9397535_TTTGTTGTCTACTCAT   WNT-XAV     False   \n\n                                 Celltype_without_inhibitors        Celltype  \\\nWSSS_END9397520_AAACCCAAGTAGGAAG                     NH_Day0           NH_d0   \nWSSS_END9397520_AAACCCACACAAGCTT                     NH_Day0           NH_d0   \nWSSS_END9397520_AAACCCACACATGTTG                     NH_Day0           NH_d0   \nWSSS_END9397520_AAACCCACACTCAAGT                     NH_Day0           NH_d0   \nWSSS_END9397520_AAACCCAGTCGCACAC                     NH_Day0           NH_d0   \n...                                                      ...             ...   \nWSSS_END9397535_TTTGGTTGTACTGGGA                    filtered  Secretory_WNTi   \nWSSS_END9397535_TTTGGTTTCATACGGT                    filtered  Secretory_WNTi   \nWSSS_END9397535_TTTGTTGCAATTTCGG                    filtered  Secretory_WNTi   \nWSSS_END9397535_TTTGTTGGTTGACGGA                    filtered  Secretory_WNTi   \nWSSS_END9397535_TTTGTTGTCTACTCAT                    filtered  Secretory_WNTi   \n\n                                 CellCycle Phase  \nWSSS_END9397520_AAACCCAAGTAGGAAG             G2M  \nWSSS_END9397520_AAACCCACACAAGCTT             G2M  \nWSSS_END9397520_AAACCCACACATGTTG              G1  \nWSSS_END9397520_AAACCCACACTCAAGT              G1  \nWSSS_END9397520_AAACCCAGTCGCACAC              G1  \n...                                          ...  \nWSSS_END9397535_TTTGGTTGTACTGGGA              G1  \nWSSS_END9397535_TTTGGTTTCATACGGT              G1  \nWSSS_END9397535_TTTGTTGCAATTTCGG              G1  \nWSSS_END9397535_TTTGTTGGTTGACGGA              G1  \nWSSS_END9397535_TTTGTTGTCTACTCAT              G1  \n\n[118672 rows x 12 columns]",
      "text/html": "<div>\n<style scoped>\n    .dataframe tbody tr th:only-of-type {\n        vertical-align: middle;\n    }\n\n    .dataframe tbody tr th {\n        vertical-align: top;\n    }\n\n    .dataframe thead th {\n        text-align: right;\n    }\n</style>\n<table border=\"1\" class=\"dataframe\">\n  <thead>\n    <tr style=\"text-align: right;\">\n      <th></th>\n      <th>demultiplexed</th>\n      <th>sample_names</th>\n      <th>log2p1_count</th>\n      <th>percent_mito</th>\n      <th>n_genes</th>\n      <th>Days</th>\n      <th>Hormones</th>\n      <th>Inhibitor</th>\n      <th>IsClonal</th>\n      <th>Celltype_without_inhibitors</th>\n      <th>Celltype</th>\n      <th>CellCycle Phase</th>\n    </tr>\n  </thead>\n  <tbody>\n    <tr>\n      <th>WSSS_END9397520_AAACCCAAGTAGGAAG</th>\n      <td>U2</td>\n      <td>WSSS_END9397520</td>\n      <td>13.902563</td>\n      <td>0.131979</td>\n      <td>3837</td>\n      <td>0</td>\n      <td>Ctrl</td>\n      <td>Ctrl</td>\n      <td>False</td>\n      <td>NH_Day0</td>\n      <td>NH_d0</td>\n      <td>G2M</td>\n    </tr>\n    <tr>\n      <th>WSSS_END9397520_AAACCCACACAAGCTT</th>\n      <td>U2</td>\n      <td>WSSS_END9397520</td>\n      <td>13.438143</td>\n      <td>0.086592</td>\n      <td>3261</td>\n      <td>0</td>\n      <td>Ctrl</td>\n      <td>Ctrl</td>\n      <td>False</td>\n      <td>NH_Day0</td>\n      <td>NH_d0</td>\n      <td>G2M</td>\n    </tr>\n    <tr>\n      <th>WSSS_END9397520_AAACCCACACATGTTG</th>\n      <td>U1</td>\n      <td>WSSS_END9397520</td>\n      <td>13.585785</td>\n      <td>0.124614</td>\n      <td>3421</td>\n      <td>0</td>\n      <td>Ctrl</td>\n      <td>Ctrl</td>\n      <td>False</td>\n      <td>NH_Day0</td>\n      <td>NH_d0</td>\n      <td>G1</td>\n    </tr>\n    <tr>\n      <th>WSSS_END9397520_AAACCCACACTCAAGT</th>\n      <td>U1</td>\n      <td>WSSS_END9397520</td>\n      <td>12.751125</td>\n      <td>0.095314</td>\n      <td>2488</td>\n      <td>0</td>\n      <td>Ctrl</td>\n      <td>Ctrl</td>\n      <td>False</td>\n      <td>NH_Day0</td>\n      <td>NH_d0</td>\n      <td>G1</td>\n    </tr>\n    <tr>\n      <th>WSSS_END9397520_AAACCCAGTCGCACAC</th>\n      <td>U1</td>\n      <td>WSSS_END9397520</td>\n      <td>13.382354</td>\n      <td>0.127189</td>\n      <td>3137</td>\n      <td>0</td>\n      <td>Ctrl</td>\n      <td>Ctrl</td>\n      <td>False</td>\n      <td>NH_Day0</td>\n      <td>NH_d0</td>\n      <td>G1</td>\n    </tr>\n    <tr>\n      <th>...</th>\n      <td>...</td>\n      <td>...</td>\n      <td>...</td>\n      <td>...</td>\n      <td>...</td>\n      <td>...</td>\n      <td>...</td>\n      <td>...</td>\n      <td>...</td>\n      <td>...</td>\n      <td>...</td>\n      <td>...</td>\n    </tr>\n    <tr>\n      <th>WSSS_END9397535_TTTGGTTGTACTGGGA</th>\n      <td>B44</td>\n      <td>WSSS_END9397535</td>\n      <td>12.940681</td>\n      <td>0.159903</td>\n      <td>2409</td>\n      <td>6</td>\n      <td>E+P</td>\n      <td>WNT-XAV</td>\n      <td>False</td>\n      <td>filtered</td>\n      <td>Secretory_WNTi</td>\n      <td>G1</td>\n    </tr>\n    <tr>\n      <th>WSSS_END9397535_TTTGGTTTCATACGGT</th>\n      <td>B44</td>\n      <td>WSSS_END9397535</td>\n      <td>13.084974</td>\n      <td>0.113375</td>\n      <td>2540</td>\n      <td>6</td>\n      <td>E+P</td>\n      <td>WNT-XAV</td>\n      <td>False</td>\n      <td>filtered</td>\n      <td>Secretory_WNTi</td>\n      <td>G1</td>\n    </tr>\n    <tr>\n      <th>WSSS_END9397535_TTTGTTGCAATTTCGG</th>\n      <td>U1</td>\n      <td>WSSS_END9397535</td>\n      <td>12.537461</td>\n      <td>0.125841</td>\n      <td>2156</td>\n      <td>6</td>\n      <td>E+P</td>\n      <td>WNT-XAV</td>\n      <td>False</td>\n      <td>filtered</td>\n      <td>Secretory_WNTi</td>\n      <td>G1</td>\n    </tr>\n    <tr>\n      <th>WSSS_END9397535_TTTGTTGGTTGACGGA</th>\n      <td>B44</td>\n      <td>WSSS_END9397535</td>\n      <td>12.570567</td>\n      <td>0.147649</td>\n      <td>2097</td>\n      <td>6</td>\n      <td>E+P</td>\n      <td>WNT-XAV</td>\n      <td>False</td>\n      <td>filtered</td>\n      <td>Secretory_WNTi</td>\n      <td>G1</td>\n    </tr>\n    <tr>\n      <th>WSSS_END9397535_TTTGTTGTCTACTCAT</th>\n      <td>U1</td>\n      <td>WSSS_END9397535</td>\n      <td>12.335669</td>\n      <td>0.105070</td>\n      <td>1839</td>\n      <td>6</td>\n      <td>E+P</td>\n      <td>WNT-XAV</td>\n      <td>False</td>\n      <td>filtered</td>\n      <td>Secretory_WNTi</td>\n      <td>G1</td>\n    </tr>\n  </tbody>\n</table>\n<p>118672 rows × 12 columns</p>\n</div>"
     },
     "execution_count": 4,
     "metadata": {},
     "output_type": "execute_result"
    }
   ],
   "source": [
    "adata_or.obs"
   ],
   "metadata": {
    "collapsed": false,
    "pycharm": {
     "name": "#%%\n"
    }
   }
  },
  {
   "cell_type": "code",
   "execution_count": 4,
   "outputs": [
    {
     "data": {
      "text/plain": "                                 demultiplexed     sample_names  log2p1_count  \\\nWSSS_END9397520_AAACCCAAGTAGGAAG            U2  WSSS_END9397520     13.902563   \nWSSS_END9397520_AAACCCACACAAGCTT            U2  WSSS_END9397520     13.438143   \nWSSS_END9397520_AAACCCACACATGTTG            U1  WSSS_END9397520     13.585785   \nWSSS_END9397520_AAACCCACACTCAAGT            U1  WSSS_END9397520     12.751125   \nWSSS_END9397520_AAACCCAGTCGCACAC            U1  WSSS_END9397520     13.382354   \n...                                        ...              ...           ...   \nWSSS_END9397533_TTTGTTGCACAGCCAC            U2  WSSS_END9397533     12.576013   \nWSSS_END9397533_TTTGTTGCAGGTTCAT           B44  WSSS_END9397533     13.092262   \nWSSS_END9397533_TTTGTTGCAGTAGAAT           B44  WSSS_END9397533     13.100990   \nWSSS_END9397533_TTTGTTGTCCATAAGC            U2  WSSS_END9397533     11.893681   \nWSSS_END9397533_TTTGTTGTCTCGCTCA            U2  WSSS_END9397533     12.091435   \n\n                                  percent_mito  n_genes Days Hormones  \\\nWSSS_END9397520_AAACCCAAGTAGGAAG      0.131979     3837    0     Ctrl   \nWSSS_END9397520_AAACCCACACAAGCTT      0.086592     3261    0     Ctrl   \nWSSS_END9397520_AAACCCACACATGTTG      0.124614     3421    0     Ctrl   \nWSSS_END9397520_AAACCCACACTCAAGT      0.095314     2488    0     Ctrl   \nWSSS_END9397520_AAACCCAGTCGCACAC      0.127189     3137    0     Ctrl   \n...                                        ...      ...  ...      ...   \nWSSS_END9397533_TTTGTTGCACAGCCAC      0.161835     1717    6      E+P   \nWSSS_END9397533_TTTGTTGCAGGTTCAT      0.077760     2635    6      E+P   \nWSSS_END9397533_TTTGTTGCAGTAGAAT      0.110871     2759    6      E+P   \nWSSS_END9397533_TTTGTTGTCCATAAGC      0.082808     1205    6      E+P   \nWSSS_END9397533_TTTGTTGTCTCGCTCA      0.107724     1331    6      E+P   \n\n                                 Inhibitor  IsClonal  \\\nWSSS_END9397520_AAACCCAAGTAGGAAG      Ctrl     False   \nWSSS_END9397520_AAACCCACACAAGCTT      Ctrl     False   \nWSSS_END9397520_AAACCCACACATGTTG      Ctrl     False   \nWSSS_END9397520_AAACCCACACTCAAGT      Ctrl     False   \nWSSS_END9397520_AAACCCAGTCGCACAC      Ctrl     False   \n...                                    ...       ...   \nWSSS_END9397533_TTTGTTGCACAGCCAC      Ctrl     False   \nWSSS_END9397533_TTTGTTGCAGGTTCAT      Ctrl     False   \nWSSS_END9397533_TTTGTTGCAGTAGAAT      Ctrl     False   \nWSSS_END9397533_TTTGTTGTCCATAAGC      Ctrl     False   \nWSSS_END9397533_TTTGTTGTCTCGCTCA      Ctrl     False   \n\n                                 Celltype_without_inhibitors        Celltype  \\\nWSSS_END9397520_AAACCCAAGTAGGAAG                     NH_Day0           NH_d0   \nWSSS_END9397520_AAACCCACACAAGCTT                     NH_Day0           NH_d0   \nWSSS_END9397520_AAACCCACACATGTTG                     NH_Day0           NH_d0   \nWSSS_END9397520_AAACCCACACTCAAGT                     NH_Day0           NH_d0   \nWSSS_END9397520_AAACCCAGTCGCACAC                     NH_Day0           NH_d0   \n...                                                      ...             ...   \nWSSS_END9397533_TTTGTTGCACAGCCAC                   Secretory  Secretory_Ctrl   \nWSSS_END9397533_TTTGTTGCAGGTTCAT                   Secretory  Secretory_Ctrl   \nWSSS_END9397533_TTTGTTGCAGTAGAAT                    Ciliated        Ciliated   \nWSSS_END9397533_TTTGTTGTCCATAAGC                   Secretory  Secretory_Ctrl   \nWSSS_END9397533_TTTGTTGTCTCGCTCA                   Secretory  Secretory_Ctrl   \n\n                                 CellCycle Phase  \nWSSS_END9397520_AAACCCAAGTAGGAAG             G2M  \nWSSS_END9397520_AAACCCACACAAGCTT             G2M  \nWSSS_END9397520_AAACCCACACATGTTG              G1  \nWSSS_END9397520_AAACCCACACTCAAGT              G1  \nWSSS_END9397520_AAACCCAGTCGCACAC              G1  \n...                                          ...  \nWSSS_END9397533_TTTGTTGCACAGCCAC              G1  \nWSSS_END9397533_TTTGTTGCAGGTTCAT              G1  \nWSSS_END9397533_TTTGTTGCAGTAGAAT              G1  \nWSSS_END9397533_TTTGTTGTCCATAAGC              G1  \nWSSS_END9397533_TTTGTTGTCTCGCTCA              G1  \n\n[37048 rows x 12 columns]",
      "text/html": "<div>\n<style scoped>\n    .dataframe tbody tr th:only-of-type {\n        vertical-align: middle;\n    }\n\n    .dataframe tbody tr th {\n        vertical-align: top;\n    }\n\n    .dataframe thead th {\n        text-align: right;\n    }\n</style>\n<table border=\"1\" class=\"dataframe\">\n  <thead>\n    <tr style=\"text-align: right;\">\n      <th></th>\n      <th>demultiplexed</th>\n      <th>sample_names</th>\n      <th>log2p1_count</th>\n      <th>percent_mito</th>\n      <th>n_genes</th>\n      <th>Days</th>\n      <th>Hormones</th>\n      <th>Inhibitor</th>\n      <th>IsClonal</th>\n      <th>Celltype_without_inhibitors</th>\n      <th>Celltype</th>\n      <th>CellCycle Phase</th>\n    </tr>\n  </thead>\n  <tbody>\n    <tr>\n      <th>WSSS_END9397520_AAACCCAAGTAGGAAG</th>\n      <td>U2</td>\n      <td>WSSS_END9397520</td>\n      <td>13.902563</td>\n      <td>0.131979</td>\n      <td>3837</td>\n      <td>0</td>\n      <td>Ctrl</td>\n      <td>Ctrl</td>\n      <td>False</td>\n      <td>NH_Day0</td>\n      <td>NH_d0</td>\n      <td>G2M</td>\n    </tr>\n    <tr>\n      <th>WSSS_END9397520_AAACCCACACAAGCTT</th>\n      <td>U2</td>\n      <td>WSSS_END9397520</td>\n      <td>13.438143</td>\n      <td>0.086592</td>\n      <td>3261</td>\n      <td>0</td>\n      <td>Ctrl</td>\n      <td>Ctrl</td>\n      <td>False</td>\n      <td>NH_Day0</td>\n      <td>NH_d0</td>\n      <td>G2M</td>\n    </tr>\n    <tr>\n      <th>WSSS_END9397520_AAACCCACACATGTTG</th>\n      <td>U1</td>\n      <td>WSSS_END9397520</td>\n      <td>13.585785</td>\n      <td>0.124614</td>\n      <td>3421</td>\n      <td>0</td>\n      <td>Ctrl</td>\n      <td>Ctrl</td>\n      <td>False</td>\n      <td>NH_Day0</td>\n      <td>NH_d0</td>\n      <td>G1</td>\n    </tr>\n    <tr>\n      <th>WSSS_END9397520_AAACCCACACTCAAGT</th>\n      <td>U1</td>\n      <td>WSSS_END9397520</td>\n      <td>12.751125</td>\n      <td>0.095314</td>\n      <td>2488</td>\n      <td>0</td>\n      <td>Ctrl</td>\n      <td>Ctrl</td>\n      <td>False</td>\n      <td>NH_Day0</td>\n      <td>NH_d0</td>\n      <td>G1</td>\n    </tr>\n    <tr>\n      <th>WSSS_END9397520_AAACCCAGTCGCACAC</th>\n      <td>U1</td>\n      <td>WSSS_END9397520</td>\n      <td>13.382354</td>\n      <td>0.127189</td>\n      <td>3137</td>\n      <td>0</td>\n      <td>Ctrl</td>\n      <td>Ctrl</td>\n      <td>False</td>\n      <td>NH_Day0</td>\n      <td>NH_d0</td>\n      <td>G1</td>\n    </tr>\n    <tr>\n      <th>...</th>\n      <td>...</td>\n      <td>...</td>\n      <td>...</td>\n      <td>...</td>\n      <td>...</td>\n      <td>...</td>\n      <td>...</td>\n      <td>...</td>\n      <td>...</td>\n      <td>...</td>\n      <td>...</td>\n      <td>...</td>\n    </tr>\n    <tr>\n      <th>WSSS_END9397533_TTTGTTGCACAGCCAC</th>\n      <td>U2</td>\n      <td>WSSS_END9397533</td>\n      <td>12.576013</td>\n      <td>0.161835</td>\n      <td>1717</td>\n      <td>6</td>\n      <td>E+P</td>\n      <td>Ctrl</td>\n      <td>False</td>\n      <td>Secretory</td>\n      <td>Secretory_Ctrl</td>\n      <td>G1</td>\n    </tr>\n    <tr>\n      <th>WSSS_END9397533_TTTGTTGCAGGTTCAT</th>\n      <td>B44</td>\n      <td>WSSS_END9397533</td>\n      <td>13.092262</td>\n      <td>0.077760</td>\n      <td>2635</td>\n      <td>6</td>\n      <td>E+P</td>\n      <td>Ctrl</td>\n      <td>False</td>\n      <td>Secretory</td>\n      <td>Secretory_Ctrl</td>\n      <td>G1</td>\n    </tr>\n    <tr>\n      <th>WSSS_END9397533_TTTGTTGCAGTAGAAT</th>\n      <td>B44</td>\n      <td>WSSS_END9397533</td>\n      <td>13.100990</td>\n      <td>0.110871</td>\n      <td>2759</td>\n      <td>6</td>\n      <td>E+P</td>\n      <td>Ctrl</td>\n      <td>False</td>\n      <td>Ciliated</td>\n      <td>Ciliated</td>\n      <td>G1</td>\n    </tr>\n    <tr>\n      <th>WSSS_END9397533_TTTGTTGTCCATAAGC</th>\n      <td>U2</td>\n      <td>WSSS_END9397533</td>\n      <td>11.893681</td>\n      <td>0.082808</td>\n      <td>1205</td>\n      <td>6</td>\n      <td>E+P</td>\n      <td>Ctrl</td>\n      <td>False</td>\n      <td>Secretory</td>\n      <td>Secretory_Ctrl</td>\n      <td>G1</td>\n    </tr>\n    <tr>\n      <th>WSSS_END9397533_TTTGTTGTCTCGCTCA</th>\n      <td>U2</td>\n      <td>WSSS_END9397533</td>\n      <td>12.091435</td>\n      <td>0.107724</td>\n      <td>1331</td>\n      <td>6</td>\n      <td>E+P</td>\n      <td>Ctrl</td>\n      <td>False</td>\n      <td>Secretory</td>\n      <td>Secretory_Ctrl</td>\n      <td>G1</td>\n    </tr>\n  </tbody>\n</table>\n<p>37048 rows × 12 columns</p>\n</div>"
     },
     "execution_count": 4,
     "metadata": {},
     "output_type": "execute_result"
    }
   ],
   "source": [
    "# subsampling for cntrl organoids and hormone treated organoids without any wnt | notch pathway repressor\n",
    "adata_or_used = adata_or[adata_or.obs[\"sample_names\"].isin([\"WSSS_END9397520\", # cntrl, day0\n",
    "                                                           \"WSSS_END9397521\", # E2, day 0\n",
    "                                                           \"WSSS_END9397522\", # cntrl, day 2\n",
    "                                                           \"WSSS_END9397527\", # E2 + P4 day 2\n",
    "                                                           \"WSSS_END9397528\", # cntrl, day 6\n",
    "                                                           \"WSSS_END9397533\" # E2 + P4, day 6\n",
    "                                                            ]),:]\n",
    "adata_or_used.obs"
   ],
   "metadata": {
    "collapsed": false,
    "pycharm": {
     "name": "#%%\n"
    }
   }
  },
  {
   "cell_type": "code",
   "execution_count": 7,
   "outputs": [],
   "source": [
    "# writing new anndata object\n",
    "\n",
    "subsample_organoid = (\"/home/vfs/PycharmProjects/Organoids_sc_WS2122/data/Garcia_Alonso_tissue/GarciaAlsonso_organoid_subsampled.h5ad\")"
   ],
   "metadata": {
    "collapsed": false,
    "pycharm": {
     "name": "#%%\n"
    }
   }
  },
  {
   "cell_type": "code",
   "execution_count": 8,
   "outputs": [],
   "source": [
    "adata_or_used.write(subsample_organoid)"
   ],
   "metadata": {
    "collapsed": false,
    "pycharm": {
     "name": "#%%\n"
    }
   }
  }
 ],
 "metadata": {
  "kernelspec": {
   "display_name": "Python 3",
   "language": "python",
   "name": "python3"
  },
  "language_info": {
   "codemirror_mode": {
    "name": "ipython",
    "version": 2
   },
   "file_extension": ".py",
   "mimetype": "text/x-python",
   "name": "python",
   "nbconvert_exporter": "python",
   "pygments_lexer": "ipython2",
   "version": "2.7.6"
  }
 },
 "nbformat": 4,
 "nbformat_minor": 0
}