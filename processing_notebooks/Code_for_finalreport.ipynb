{
 "cells": [
  {
   "cell_type": "code",
   "execution_count": 2,
   "metadata": {
    "collapsed": true
   },
   "outputs": [],
   "source": [
    "import pandas as pd\n",
    "import numpy as np\n",
    "import matplotlib as plt\n",
    "import scanpy as sc\n",
    "import matplotlib.pyplot as plt\n",
    "import anndata as ad"
   ]
  },
  {
   "cell_type": "code",
   "execution_count": 3,
   "outputs": [
    {
     "name": "stdout",
     "output_type": "stream",
     "text": [
      "scanpy==1.8.2 anndata==0.7.8 umap==0.5.2 numpy==1.20.3 scipy==1.7.2 pandas==1.3.4 scikit-learn==1.0.1 statsmodels==0.13.0 python-igraph==0.9.8 pynndescent==0.5.5\n"
     ]
    }
   ],
   "source": [
    "sc.settings.verbosity = 3            \n",
    "sc.logging.print_header()\n",
    "sc.settings.set_figure_params(dpi=80, facecolor='white')"
   ],
   "metadata": {
    "collapsed": false,
    "pycharm": {
     "name": "#%%\n"
    }
   }
  },
  {
   "cell_type": "code",
   "execution_count": 4,
   "outputs": [],
   "source": [
    "# reading data\n",
    "\n",
    "# biospsy tissue samples, endometrium\n",
    "adata_ti = sc.read_h5ad(\n",
    "            \"/home/vfs/PycharmProjects/Organoids_sc_WS2122/data/Garcia_Alonso_tissue/GarciaAlsonso_tissue_subsampled.h5ad\")\n",
    "adata_ti.var_names_make_unique()"
   ],
   "metadata": {
    "collapsed": false,
    "pycharm": {
     "name": "#%%\n"
    }
   }
  },
  {
   "cell_type": "code",
   "execution_count": 6,
   "outputs": [],
   "source": [
    "# endometrial organoids, 1 donor \n",
    "\n",
    "adata_org = sc.read_h5ad(\n",
    "            \"/home/vfs/PycharmProjects/Organoids_sc_WS2122/data/Garcia_Alonso_tissue/GarciaAlsonso_organoid_subsampled.h5ad\"\n",
    ")\n",
    "adata_org.var_names_make_unique()"
   ],
   "metadata": {
    "collapsed": false,
    "pycharm": {
     "name": "#%%\n"
    }
   }
  },
  {
   "cell_type": "markdown",
   "source": [
    "## Objective: Do endometerial organoid cell types resemble the tissue cell types? \n",
    "\n",
    "## Analysis steps:  \n",
    "### Tissue\n",
    "* sample clustering and check for merge possibility \n",
    "    - PCA plot\n",
    "    - UMAP \n",
    "    - UMAP after samples -> check if mergeable\n",
    "* merge samples\n",
    "* subsample for epithila cell types bc those are the once we expect in organoids too\n",
    "* cluster/UMAP again\n",
    "\n",
    "### Organoids \n",
    "* sample clustering and check for merge possibility \n",
    "    - PCA plot\n",
    "    - UMAP \n",
    "    - UMAP after samples -> check if mergeable\n",
    "* merge samples\n",
    "\n",
    "## Downstream analysis: \n",
    "* plot with proportion number of cells per cell type (?)\n",
    "* correlation between increase of certain cell type in tissue and organoids"
   ],
   "metadata": {
    "collapsed": false,
    "pycharm": {
     "name": "#%% md\n"
    }
   }
  },
  {
   "cell_type": "markdown",
   "source": [
    "### Tissue: sample clustering and check for merge possibility"
   ],
   "metadata": {
    "collapsed": false
   }
  },
  {
   "cell_type": "code",
   "execution_count": null,
   "outputs": [],
   "source": [
    "# PCA "
   ],
   "metadata": {
    "collapsed": false,
    "pycharm": {
     "name": "#%%\n"
    }
   }
  },
  {
   "cell_type": "code",
   "execution_count": 7,
   "outputs": [],
   "source": [
    "# sample wise analysis\n",
    "\n",
    "adata_ti_pro_1 = adata_ti[adata_ti.obs[\"SampleID\"] == \"4861STDY7387181\", :]  #pro sample 1\n",
    "adata_ti_pro_2 = adata_ti[adata_ti.obs[\"SampleID\"] == \"4861STDY7387182\", :]  #pro sample 2\n",
    "adata_ti_sec_1 = adata_ti[adata_ti.obs[\"SampleID\"] == \"MRC_Endo8625698\", :]  #sec sample 1\n",
    "adata_ti_sec_2 = adata_ti[adata_ti.obs[\"SampleID\"] == \"MRC_Endo8625699\", :]  #sec sample 2\n",
    "\n",
    "data_list_ti = [adata_ti_pro_1, adata_ti_pro_2, adata_ti_sec_1, adata_ti_sec_2]"
   ],
   "metadata": {
    "collapsed": false,
    "pycharm": {
     "name": "#%%\n"
    }
   }
  },
  {
   "cell_type": "markdown",
   "source": [
    "## Objective: Does the cycle state of the donor influence the organoid?\n",
    "\n",
    "### Analysis steps: \n",
    "* looking for gene marker specific for proliferative phase (endothelia cells only)\n",
    "    - Table with differentially expressed genes in tissue\n",
    "* check for cycle-state specificity\n",
    "    - heatmap comparing proliferative tissue & secretory tissue\n",
    "    - heatmap scaled and normalized\n",
    "* check for transferablilty to organoids (Day0  and Day6)\n",
    "    - heatmap with prolif, secretory tissue + day0, day6 organoids\n",
    "    - saled and normalized "
   ],
   "metadata": {
    "collapsed": false
   }
  },
  {
   "cell_type": "code",
   "execution_count": null,
   "outputs": [],
   "source": [],
   "metadata": {
    "collapsed": false,
    "pycharm": {
     "name": "#%%\n"
    }
   }
  }
 ],
 "metadata": {
  "kernelspec": {
   "display_name": "Python 3",
   "language": "python",
   "name": "python3"
  },
  "language_info": {
   "codemirror_mode": {
    "name": "ipython",
    "version": 2
   },
   "file_extension": ".py",
   "mimetype": "text/x-python",
   "name": "python",
   "nbconvert_exporter": "python",
   "pygments_lexer": "ipython2",
   "version": "2.7.6"
  }
 },
 "nbformat": 4,
 "nbformat_minor": 0
}